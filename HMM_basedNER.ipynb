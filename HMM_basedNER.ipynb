{
  "nbformat": 4,
  "nbformat_minor": 0,
  "metadata": {
    "colab": {
      "name": "HMM_basedNER.ipynb",
      "provenance": [],
      "collapsed_sections": [
        "jfWBq-rQOFp2",
        "Z3mN7EiIFJ8r",
        "WzLz0oryOCHU"
      ]
    },
    "kernelspec": {
      "name": "python3",
      "display_name": "Python 3"
    },
    "language_info": {
      "name": "python"
    }
  },
  "cells": [
    {
      "cell_type": "code",
      "metadata": {
        "id": "QWG_y_pRGmXv"
      },
      "source": [
        "%cd \"/content/drive/NLP/Notebooks/Projects/HTM(healthcare_topic_modelling)\"\n",
        "%ls"
      ],
      "execution_count": null,
      "outputs": []
    },
    {
      "cell_type": "code",
      "metadata": {
        "id": "m5E_wbJQHJKI"
      },
      "source": [
        "import pandas as pd\n",
        "import numpy as np\n",
        "\n",
        "from itertools import product\n",
        "from functools import reduce\n",
        "import matplotlib.pyplot as plt\n",
        "\n",
        "import spacy\n",
        "from sklearn.feature_extraction.text import CountVectorizer\n",
        "import scipy.sparse as sp"
      ],
      "execution_count": 60,
      "outputs": []
    },
    {
      "cell_type": "code",
      "metadata": {
        "colab": {
          "base_uri": "https://localhost:8080/"
        },
        "id": "FV9mk9pyHSNv",
        "outputId": "c8093f2e-eec7-43a2-e868-dbca67e264c9"
      },
      "source": [
        "# Data Loading\n",
        "train_df = pd.read_csv(\"train_df.csv\")\n",
        "test_df = pd.read_csv(\"test_df.csv\")\n",
        "print(train_df.head(2),\"\\n\",train_df.columns,\"\\n\",test_df.head(2))"
      ],
      "execution_count": 3,
      "outputs": [
        {
          "output_type": "stream",
          "name": "stdout",
          "text": [
            "                                                sent  ...                                                pos\n",
            "0  All live births > or = 23 weeks at the Univers...  ...  DET ADJ NOUN X CCONJ SYM NUM NOUN ADP DET PROP...\n",
            "1  The total cesarean rate was 14.4 % ( 344 of 23...  ...  DET ADJ ADJ NOUN AUX NUM NOUN PUNCT NUM ADP NU...\n",
            "\n",
            "[2 rows x 4 columns] \n",
            " Index(['sent', 'labels', 'noun', 'pos'], dtype='object') \n",
            "                                                 sent                                             labels\n",
            "0  Furthermore , when all deliveries were analyze...  O O O O O O O O O O O O O O O O O O O O O O O ...\n",
            "1  As the ambient temperature increases , there i...             O O O O O O O O O O O O O O O O O O O \n"
          ]
        }
      ]
    },
    {
      "cell_type": "code",
      "metadata": {
        "colab": {
          "base_uri": "https://localhost:8080/"
        },
        "id": "1mBHNIqxLHc8",
        "outputId": "76c02530-178d-4243-b892-1e8d38377e15"
      },
      "source": [
        "train_df.iloc[4]['sent'], train_df.iloc[4]['pos']"
      ],
      "execution_count": null,
      "outputs": [
        {
          "output_type": "execute_result",
          "data": {
            "text/plain": [
              "(\"Arrest of dilation was the most common indication in both `` corrected '' subgroups ( 23.4 and 24.6 % , respectively ) \",\n",
              " 'NOUN ADP NOUN AUX DET ADV ADJ NOUN ADP DET PUNCT PUNCT VERB PUNCT NOUN PUNCT NUM CCONJ NUM NOUN PUNCT ADV PUNCT')"
            ]
          },
          "metadata": {},
          "execution_count": 63
        }
      ]
    },
    {
      "cell_type": "markdown",
      "metadata": {
        "id": "jfWBq-rQOFp2"
      },
      "source": [
        "### Implementation of HMM #1"
      ]
    },
    {
      "cell_type": "code",
      "metadata": {
        "id": "eh7VEfuftin8"
      },
      "source": [
        "# Loading nlp model from spacy for ner tag\n",
        "nlp = spacy.load(\"en_core_web_sm\")"
      ],
      "execution_count": null,
      "outputs": []
    },
    {
      "cell_type": "code",
      "metadata": {
        "id": "tqFc2VwVtry5"
      },
      "source": [
        "def ner(sent):\n",
        "  doc = nlp(sent)\n",
        "  snt_ls = []\n",
        "  pos_ls = []\n",
        "  comb_ind = []\n",
        "  punct_cnt = 0\n",
        "  for ind,token in enumerate(doc):\n",
        "    # Skipped the tag as well as text when text = `` as this is counted as two POS token/tag\n",
        "    if token.text ==\"`\":\n",
        "      punct_cnt += 1\n",
        "      continue\n",
        "    # To store the location of text joined with \"-\" as those texts are as one words in sentence but three in POS tags\n",
        "    if token.text == \"-\":\n",
        "      # print(f\"{ind}, {doc[ind-1:ind+2]}, {token.text} ------  {token.pos_}\")\n",
        "      comb_ind.append(ind)\n",
        "    else:\n",
        "      snt_ls.append(token.text)\n",
        "      pos_ls.append(token.pos_)\n",
        "  if len(comb_ind) != 0:\n",
        "    for c_ind in comb_ind:\n",
        "      c_ind = c_ind-punct_cnt\n",
        "      # Combined the POS tags joined by \"-\"\n",
        "      snt_ls = snt_ls[:c_ind+1]+ [\"-\".join(snt_ls[c_ind+1:c_ind+3])] + snt_ls[c_ind+3:]\n",
        "      pos_ls = pos_ls[:c_ind+1]+ [\"-\".join(pos_ls[c_ind+1:c_ind+3])] + pos_ls[c_ind+3:]\n",
        "  return snt_ls, pos_ls"
      ],
      "execution_count": null,
      "outputs": []
    },
    {
      "cell_type": "code",
      "metadata": {
        "id": "Y1yGRemsOPlg"
      },
      "source": [
        "train_sent = []\n",
        "pos_list = []\n",
        "for s_ind,sent in enumerate(train_df.sent.iloc[:5]):\n",
        "  (new_ls, new_pos_ls) = ner(sent.lower())\n",
        "  train_sent.extend(new_ls)\n",
        "  pos_list.extend(new_pos_ls)\n",
        "  # print(len(new_ls), len(new_pos_ls))"
      ],
      "execution_count": null,
      "outputs": []
    },
    {
      "cell_type": "code",
      "metadata": {
        "colab": {
          "base_uri": "https://localhost:8080/"
        },
        "id": "1YifLCxVaqQa",
        "outputId": "e284bb5d-0a53-451b-a13e-bb31c09fa0e1"
      },
      "source": [
        "len(train_sent), len(pos_list)"
      ],
      "execution_count": null,
      "outputs": [
        {
          "output_type": "execute_result",
          "data": {
            "text/plain": [
              "(142, 142)"
            ]
          },
          "metadata": {},
          "execution_count": 71
        }
      ]
    },
    {
      "cell_type": "code",
      "metadata": {
        "colab": {
          "base_uri": "https://localhost:8080/",
          "height": 452
        },
        "id": "hgU2Jhq3TPpg",
        "outputId": "f0846568-e653-42ba-9891-0bf3fa2d53c6"
      },
      "source": [
        "emmission_matrix = pd.crosstab(np.array(train_sent),np.array(pos_list),normalize='columns')\n",
        "emmission_matrix.columns = map(str.lower, emmission_matrix.columns)\n",
        "emmission_matrix"
      ],
      "execution_count": null,
      "outputs": [
        {
          "output_type": "execute_result",
          "data": {
            "text/html": [
              "<div>\n",
              "<style scoped>\n",
              "    .dataframe tbody tr th:only-of-type {\n",
              "        vertical-align: middle;\n",
              "    }\n",
              "\n",
              "    .dataframe tbody tr th {\n",
              "        vertical-align: top;\n",
              "    }\n",
              "\n",
              "    .dataframe thead th {\n",
              "        text-align: right;\n",
              "    }\n",
              "</style>\n",
              "<table border=\"1\" class=\"dataframe\">\n",
              "  <thead>\n",
              "    <tr style=\"text-align: right;\">\n",
              "      <th></th>\n",
              "      <th>adj</th>\n",
              "      <th>adj-adj</th>\n",
              "      <th>adp</th>\n",
              "      <th>adv</th>\n",
              "      <th>aux</th>\n",
              "      <th>cconj</th>\n",
              "      <th>det</th>\n",
              "      <th>noun</th>\n",
              "      <th>num</th>\n",
              "      <th>part</th>\n",
              "      <th>propn</th>\n",
              "      <th>punct</th>\n",
              "      <th>sym</th>\n",
              "      <th>verb</th>\n",
              "      <th>x</th>\n",
              "    </tr>\n",
              "    <tr>\n",
              "      <th>row_0</th>\n",
              "      <th></th>\n",
              "      <th></th>\n",
              "      <th></th>\n",
              "      <th></th>\n",
              "      <th></th>\n",
              "      <th></th>\n",
              "      <th></th>\n",
              "      <th></th>\n",
              "      <th></th>\n",
              "      <th></th>\n",
              "      <th></th>\n",
              "      <th></th>\n",
              "      <th></th>\n",
              "      <th></th>\n",
              "      <th></th>\n",
              "    </tr>\n",
              "  </thead>\n",
              "  <tbody>\n",
              "    <tr>\n",
              "      <th>%</th>\n",
              "      <td>0.0</td>\n",
              "      <td>0.0</td>\n",
              "      <td>0.0</td>\n",
              "      <td>0.0</td>\n",
              "      <td>0.000000</td>\n",
              "      <td>0.0</td>\n",
              "      <td>0.0</td>\n",
              "      <td>0.206897</td>\n",
              "      <td>0.0</td>\n",
              "      <td>0.0</td>\n",
              "      <td>0.000000</td>\n",
              "      <td>0.000000</td>\n",
              "      <td>0.0</td>\n",
              "      <td>0.0</td>\n",
              "      <td>0.0</td>\n",
              "    </tr>\n",
              "    <tr>\n",
              "      <th>''</th>\n",
              "      <td>0.0</td>\n",
              "      <td>0.0</td>\n",
              "      <td>0.0</td>\n",
              "      <td>0.0</td>\n",
              "      <td>0.000000</td>\n",
              "      <td>0.0</td>\n",
              "      <td>0.0</td>\n",
              "      <td>0.000000</td>\n",
              "      <td>0.0</td>\n",
              "      <td>0.0</td>\n",
              "      <td>0.000000</td>\n",
              "      <td>0.103448</td>\n",
              "      <td>0.0</td>\n",
              "      <td>0.0</td>\n",
              "      <td>0.0</td>\n",
              "    </tr>\n",
              "    <tr>\n",
              "      <th>(</th>\n",
              "      <td>0.0</td>\n",
              "      <td>0.0</td>\n",
              "      <td>0.0</td>\n",
              "      <td>0.0</td>\n",
              "      <td>0.000000</td>\n",
              "      <td>0.0</td>\n",
              "      <td>0.0</td>\n",
              "      <td>0.000000</td>\n",
              "      <td>0.0</td>\n",
              "      <td>0.0</td>\n",
              "      <td>0.000000</td>\n",
              "      <td>0.310345</td>\n",
              "      <td>0.0</td>\n",
              "      <td>0.0</td>\n",
              "      <td>0.0</td>\n",
              "    </tr>\n",
              "    <tr>\n",
              "      <th>)</th>\n",
              "      <td>0.0</td>\n",
              "      <td>0.0</td>\n",
              "      <td>0.0</td>\n",
              "      <td>0.0</td>\n",
              "      <td>0.000000</td>\n",
              "      <td>0.0</td>\n",
              "      <td>0.0</td>\n",
              "      <td>0.000000</td>\n",
              "      <td>0.0</td>\n",
              "      <td>0.0</td>\n",
              "      <td>0.000000</td>\n",
              "      <td>0.310345</td>\n",
              "      <td>0.0</td>\n",
              "      <td>0.0</td>\n",
              "      <td>0.0</td>\n",
              "    </tr>\n",
              "    <tr>\n",
              "      <th>,</th>\n",
              "      <td>0.0</td>\n",
              "      <td>0.0</td>\n",
              "      <td>0.0</td>\n",
              "      <td>0.0</td>\n",
              "      <td>0.000000</td>\n",
              "      <td>0.0</td>\n",
              "      <td>0.0</td>\n",
              "      <td>0.000000</td>\n",
              "      <td>0.0</td>\n",
              "      <td>0.0</td>\n",
              "      <td>0.000000</td>\n",
              "      <td>0.275862</td>\n",
              "      <td>0.0</td>\n",
              "      <td>0.0</td>\n",
              "      <td>0.0</td>\n",
              "    </tr>\n",
              "    <tr>\n",
              "      <th>...</th>\n",
              "      <td>...</td>\n",
              "      <td>...</td>\n",
              "      <td>...</td>\n",
              "      <td>...</td>\n",
              "      <td>...</td>\n",
              "      <td>...</td>\n",
              "      <td>...</td>\n",
              "      <td>...</td>\n",
              "      <td>...</td>\n",
              "      <td>...</td>\n",
              "      <td>...</td>\n",
              "      <td>...</td>\n",
              "      <td>...</td>\n",
              "      <td>...</td>\n",
              "      <td>...</td>\n",
              "    </tr>\n",
              "    <tr>\n",
              "      <th>university</th>\n",
              "      <td>0.0</td>\n",
              "      <td>0.0</td>\n",
              "      <td>0.0</td>\n",
              "      <td>0.0</td>\n",
              "      <td>0.000000</td>\n",
              "      <td>0.0</td>\n",
              "      <td>0.0</td>\n",
              "      <td>0.000000</td>\n",
              "      <td>0.0</td>\n",
              "      <td>0.0</td>\n",
              "      <td>0.333333</td>\n",
              "      <td>0.000000</td>\n",
              "      <td>0.0</td>\n",
              "      <td>0.0</td>\n",
              "      <td>0.0</td>\n",
              "    </tr>\n",
              "    <tr>\n",
              "      <th>vermont</th>\n",
              "      <td>0.0</td>\n",
              "      <td>0.0</td>\n",
              "      <td>0.0</td>\n",
              "      <td>0.0</td>\n",
              "      <td>0.000000</td>\n",
              "      <td>0.0</td>\n",
              "      <td>0.0</td>\n",
              "      <td>0.000000</td>\n",
              "      <td>0.0</td>\n",
              "      <td>0.0</td>\n",
              "      <td>0.333333</td>\n",
              "      <td>0.000000</td>\n",
              "      <td>0.0</td>\n",
              "      <td>0.0</td>\n",
              "      <td>0.0</td>\n",
              "    </tr>\n",
              "    <tr>\n",
              "      <th>was</th>\n",
              "      <td>0.0</td>\n",
              "      <td>0.0</td>\n",
              "      <td>0.0</td>\n",
              "      <td>0.0</td>\n",
              "      <td>0.857143</td>\n",
              "      <td>0.0</td>\n",
              "      <td>0.0</td>\n",
              "      <td>0.000000</td>\n",
              "      <td>0.0</td>\n",
              "      <td>0.0</td>\n",
              "      <td>0.000000</td>\n",
              "      <td>0.000000</td>\n",
              "      <td>0.0</td>\n",
              "      <td>0.0</td>\n",
              "      <td>0.0</td>\n",
              "    </tr>\n",
              "    <tr>\n",
              "      <th>weeks</th>\n",
              "      <td>0.0</td>\n",
              "      <td>0.0</td>\n",
              "      <td>0.0</td>\n",
              "      <td>0.0</td>\n",
              "      <td>0.000000</td>\n",
              "      <td>0.0</td>\n",
              "      <td>0.0</td>\n",
              "      <td>0.034483</td>\n",
              "      <td>0.0</td>\n",
              "      <td>0.0</td>\n",
              "      <td>0.000000</td>\n",
              "      <td>0.000000</td>\n",
              "      <td>0.0</td>\n",
              "      <td>0.0</td>\n",
              "      <td>0.0</td>\n",
              "    </tr>\n",
              "    <tr>\n",
              "      <th>were</th>\n",
              "      <td>0.0</td>\n",
              "      <td>0.0</td>\n",
              "      <td>0.0</td>\n",
              "      <td>0.0</td>\n",
              "      <td>0.142857</td>\n",
              "      <td>0.0</td>\n",
              "      <td>0.0</td>\n",
              "      <td>0.000000</td>\n",
              "      <td>0.0</td>\n",
              "      <td>0.0</td>\n",
              "      <td>0.000000</td>\n",
              "      <td>0.000000</td>\n",
              "      <td>0.0</td>\n",
              "      <td>0.0</td>\n",
              "      <td>0.0</td>\n",
              "    </tr>\n",
              "  </tbody>\n",
              "</table>\n",
              "<p>74 rows × 15 columns</p>\n",
              "</div>"
            ],
            "text/plain": [
              "            adj  adj-adj  adp  adv  ...     punct  sym  verb    x\n",
              "row_0                               ...                          \n",
              "%           0.0      0.0  0.0  0.0  ...  0.000000  0.0   0.0  0.0\n",
              "''          0.0      0.0  0.0  0.0  ...  0.103448  0.0   0.0  0.0\n",
              "(           0.0      0.0  0.0  0.0  ...  0.310345  0.0   0.0  0.0\n",
              ")           0.0      0.0  0.0  0.0  ...  0.310345  0.0   0.0  0.0\n",
              ",           0.0      0.0  0.0  0.0  ...  0.275862  0.0   0.0  0.0\n",
              "...         ...      ...  ...  ...  ...       ...  ...   ...  ...\n",
              "university  0.0      0.0  0.0  0.0  ...  0.000000  0.0   0.0  0.0\n",
              "vermont     0.0      0.0  0.0  0.0  ...  0.000000  0.0   0.0  0.0\n",
              "was         0.0      0.0  0.0  0.0  ...  0.000000  0.0   0.0  0.0\n",
              "weeks       0.0      0.0  0.0  0.0  ...  0.000000  0.0   0.0  0.0\n",
              "were        0.0      0.0  0.0  0.0  ...  0.000000  0.0   0.0  0.0\n",
              "\n",
              "[74 rows x 15 columns]"
            ]
          },
          "metadata": {},
          "execution_count": 72
        }
      ]
    },
    {
      "cell_type": "code",
      "metadata": {
        "id": "DMN0UZpVTPmL",
        "colab": {
          "base_uri": "https://localhost:8080/"
        },
        "outputId": "0e666fc4-9586-434c-fe81-5d4661252d9b"
      },
      "source": [
        "# Verifying each column's sum should be 1.0\n",
        "for col in emmission_matrix.columns:  \n",
        "  print(f\"{col} = {round(emmission_matrix[col].sum(),1)}\")"
      ],
      "execution_count": null,
      "outputs": [
        {
          "output_type": "stream",
          "name": "stdout",
          "text": [
            "adj = 1.0\n",
            "adj-adj = 1.0\n",
            "adp = 1.0\n",
            "adv = 1.0\n",
            "aux = 1.0\n",
            "cconj = 1.0\n",
            "det = 1.0\n",
            "noun = 1.0\n",
            "num = 1.0\n",
            "part = 1.0\n",
            "propn = 1.0\n",
            "punct = 1.0\n",
            "sym = 1.0\n",
            "verb = 1.0\n",
            "x = 1.0\n"
          ]
        }
      ]
    },
    {
      "cell_type": "code",
      "metadata": {
        "id": "CJXtm6s_cK2S",
        "colab": {
          "base_uri": "https://localhost:8080/",
          "height": 224
        },
        "outputId": "2bebcf45-1129-40b9-be71-a6f46a57485e"
      },
      "source": [
        "# Transition Matrix\n",
        "tr_df2.head()"
      ],
      "execution_count": null,
      "outputs": [
        {
          "output_type": "execute_result",
          "data": {
            "text/html": [
              "<div>\n",
              "<style scoped>\n",
              "    .dataframe tbody tr th:only-of-type {\n",
              "        vertical-align: middle;\n",
              "    }\n",
              "\n",
              "    .dataframe tbody tr th {\n",
              "        vertical-align: top;\n",
              "    }\n",
              "\n",
              "    .dataframe thead th {\n",
              "        text-align: right;\n",
              "    }\n",
              "</style>\n",
              "<table border=\"1\" class=\"dataframe\">\n",
              "  <thead>\n",
              "    <tr style=\"text-align: right;\">\n",
              "      <th></th>\n",
              "      <th>adj</th>\n",
              "      <th>adp</th>\n",
              "      <th>adv</th>\n",
              "      <th>aux</th>\n",
              "      <th>cconj</th>\n",
              "      <th>det</th>\n",
              "      <th>end</th>\n",
              "      <th>noun</th>\n",
              "      <th>num</th>\n",
              "      <th>part</th>\n",
              "      <th>propn</th>\n",
              "      <th>punct</th>\n",
              "      <th>start</th>\n",
              "      <th>sym</th>\n",
              "      <th>verb</th>\n",
              "    </tr>\n",
              "  </thead>\n",
              "  <tbody>\n",
              "    <tr>\n",
              "      <th>adj</th>\n",
              "      <td>0.101911</td>\n",
              "      <td>0.082353</td>\n",
              "      <td>0.064220</td>\n",
              "      <td>0.100917</td>\n",
              "      <td>0.090909</td>\n",
              "      <td>0.090592</td>\n",
              "      <td>0.092105</td>\n",
              "      <td>0.084813</td>\n",
              "      <td>0.103011</td>\n",
              "      <td>0.065217</td>\n",
              "      <td>0.065217</td>\n",
              "      <td>0.094283</td>\n",
              "      <td>0.092105</td>\n",
              "      <td>0.065217</td>\n",
              "      <td>0.094828</td>\n",
              "    </tr>\n",
              "    <tr>\n",
              "      <th>adp</th>\n",
              "      <td>0.074310</td>\n",
              "      <td>0.089412</td>\n",
              "      <td>0.091743</td>\n",
              "      <td>0.073394</td>\n",
              "      <td>0.081818</td>\n",
              "      <td>0.080139</td>\n",
              "      <td>0.078947</td>\n",
              "      <td>0.086785</td>\n",
              "      <td>0.072900</td>\n",
              "      <td>0.108696</td>\n",
              "      <td>0.108696</td>\n",
              "      <td>0.079238</td>\n",
              "      <td>0.078947</td>\n",
              "      <td>0.108696</td>\n",
              "      <td>0.077586</td>\n",
              "    </tr>\n",
              "    <tr>\n",
              "      <th>adv</th>\n",
              "      <td>0.014862</td>\n",
              "      <td>0.023529</td>\n",
              "      <td>0.055046</td>\n",
              "      <td>0.018349</td>\n",
              "      <td>0.018182</td>\n",
              "      <td>0.024390</td>\n",
              "      <td>0.026316</td>\n",
              "      <td>0.023669</td>\n",
              "      <td>0.015848</td>\n",
              "      <td>0.021739</td>\n",
              "      <td>0.021739</td>\n",
              "      <td>0.019057</td>\n",
              "      <td>0.026316</td>\n",
              "      <td>0.021739</td>\n",
              "      <td>0.017241</td>\n",
              "    </tr>\n",
              "    <tr>\n",
              "      <th>aux</th>\n",
              "      <td>0.046709</td>\n",
              "      <td>0.037647</td>\n",
              "      <td>0.036697</td>\n",
              "      <td>0.050459</td>\n",
              "      <td>0.040909</td>\n",
              "      <td>0.045296</td>\n",
              "      <td>0.046053</td>\n",
              "      <td>0.038462</td>\n",
              "      <td>0.050713</td>\n",
              "      <td>0.021739</td>\n",
              "      <td>0.021739</td>\n",
              "      <td>0.043129</td>\n",
              "      <td>0.046053</td>\n",
              "      <td>0.021739</td>\n",
              "      <td>0.038793</td>\n",
              "    </tr>\n",
              "    <tr>\n",
              "      <th>cconj</th>\n",
              "      <td>0.042463</td>\n",
              "      <td>0.042353</td>\n",
              "      <td>0.036697</td>\n",
              "      <td>0.041284</td>\n",
              "      <td>0.045455</td>\n",
              "      <td>0.041812</td>\n",
              "      <td>0.039474</td>\n",
              "      <td>0.042406</td>\n",
              "      <td>0.041204</td>\n",
              "      <td>0.043478</td>\n",
              "      <td>0.043478</td>\n",
              "      <td>0.043129</td>\n",
              "      <td>0.039474</td>\n",
              "      <td>0.043478</td>\n",
              "      <td>0.047414</td>\n",
              "    </tr>\n",
              "  </tbody>\n",
              "</table>\n",
              "</div>"
            ],
            "text/plain": [
              "            adj       adp       adv  ...     start       sym      verb\n",
              "adj    0.101911  0.082353  0.064220  ...  0.092105  0.065217  0.094828\n",
              "adp    0.074310  0.089412  0.091743  ...  0.078947  0.108696  0.077586\n",
              "adv    0.014862  0.023529  0.055046  ...  0.026316  0.021739  0.017241\n",
              "aux    0.046709  0.037647  0.036697  ...  0.046053  0.021739  0.038793\n",
              "cconj  0.042463  0.042353  0.036697  ...  0.039474  0.043478  0.047414\n",
              "\n",
              "[5 rows x 15 columns]"
            ]
          },
          "metadata": {},
          "execution_count": 75
        }
      ]
    },
    {
      "cell_type": "code",
      "metadata": {
        "colab": {
          "base_uri": "https://localhost:8080/"
        },
        "id": "1Tiq3DyiOLPG",
        "outputId": "a967d862-8639-4538-e88a-77ef59b96580"
      },
      "source": [
        "tr_df2.shape, emmission_matrix.shape"
      ],
      "execution_count": null,
      "outputs": [
        {
          "output_type": "execute_result",
          "data": {
            "text/plain": [
              "((15, 15), (75, 15))"
            ]
          },
          "metadata": {},
          "execution_count": 67
        }
      ]
    },
    {
      "cell_type": "code",
      "metadata": {
        "id": "njHPf-ZB7lkM"
      },
      "source": [
        "# %%time\n",
        "trans_sent = []\n",
        "trans_pos = []\n",
        "trans_mat_sent_pos = []\n",
        "for s_ind,sent in enumerate(train_df.sent.iloc[:5]):\n",
        "  (new_ls, new_pos_ls) = ner(sent)\n",
        "  new_ls = \" \".join([\"<S>\"] + new_ls)\n",
        "  new_pos_ls1 = \" \".join(new_pos_ls + [\"<E>\"])\n",
        "  trmt_sent_pos = \" \".join([\"<Start>\"] + new_pos_ls + [\"<End>\"])\n",
        "  trans_sent.append(new_ls)\n",
        "  trans_pos.append(new_pos_ls1)\n",
        "  trans_mat_sent_pos.append(trmt_sent_pos)\n",
        "  # print(new_ls,new_pos_ls)"
      ],
      "execution_count": null,
      "outputs": []
    },
    {
      "cell_type": "code",
      "metadata": {
        "colab": {
          "base_uri": "https://localhost:8080/"
        },
        "id": "vtNDPNlk-cKZ",
        "outputId": "6ebe3583-2b22-4138-c5d2-7640532bc37a"
      },
      "source": [
        "trans_sent[:2], trans_pos[:2],trans_mat_sent_pos[:2]"
      ],
      "execution_count": null,
      "outputs": [
        {
          "output_type": "execute_result",
          "data": {
            "text/plain": [
              "(['<S> All live births > or = 23 weeks at the University of Vermont in 1995 ( n = 2395 ) were retrospectively analyzed for delivery route , indication for cesarean , gestational age , parity , and practice group ( to reflect risk status )',\n",
              "  '<S> The total cesarean rate was 14.4 % ( 344 of 2395 ) , and the primary rate was 11.4 % ( 244 of 2144 )'],\n",
              " ['DET ADJ NOUN X CCONJ SYM NUM NOUN ADP DET PROPN ADP PROPN ADP NUM PUNCT PROPN SYM NUM PUNCT AUX ADV VERB ADP NOUN NOUN PUNCT NOUN ADP ADJ PUNCT ADJ NOUN PUNCT NOUN PUNCT CCONJ NOUN NOUN PUNCT PART VERB NOUN NOUN PUNCT <E>',\n",
              "  'DET ADJ ADJ NOUN AUX NUM NOUN PUNCT NUM ADP NUM PUNCT PUNCT CCONJ DET ADJ NOUN AUX NUM NOUN PUNCT NUM ADP NUM PUNCT <E>'],\n",
              " ['<Start> DET ADJ NOUN X CCONJ SYM NUM NOUN ADP DET PROPN ADP PROPN ADP NUM PUNCT PROPN SYM NUM PUNCT AUX ADV VERB ADP NOUN NOUN PUNCT NOUN ADP ADJ PUNCT ADJ NOUN PUNCT NOUN PUNCT CCONJ NOUN NOUN PUNCT PART VERB NOUN NOUN PUNCT <End>',\n",
              "  '<Start> DET ADJ ADJ NOUN AUX NUM NOUN PUNCT NUM ADP NUM PUNCT PUNCT CCONJ DET ADJ NOUN AUX NUM NOUN PUNCT NUM ADP NUM PUNCT <End>'])"
            ]
          },
          "metadata": {},
          "execution_count": 11
        }
      ]
    },
    {
      "cell_type": "code",
      "metadata": {
        "colab": {
          "base_uri": "https://localhost:8080/"
        },
        "id": "iwQ-eiHpvgtA",
        "outputId": "aa989bf9-e219-469e-bcae-187e2cd4df71"
      },
      "source": [
        "# class sklearn.feature_extraction.text.CountVectorizer: https://scikit-learn.org/stable/modules/generated/sklearn.feature_extraction.text.CountVectorizer.html\n",
        "# Convert a collection of text documents to a matrix of token counts.\n",
        "vectorizer = CountVectorizer()\n",
        "X = vectorizer.fit_transform(trans_mat_sent_pos)\n",
        "X.todense(), X.shape"
      ],
      "execution_count": null,
      "outputs": [
        {
          "output_type": "execute_result",
          "data": {
            "text/plain": [
              "(matrix([[ 3,  5,  1,  1,  2,  2,  1, 11,  3,  1,  3,  8,  1,  2,  2],\n",
              "         [ 3,  2,  0,  2,  1,  2,  1,  4,  6,  0,  0,  5,  1,  0,  0],\n",
              "         [ 2,  1,  1,  1,  0,  1,  1,  3,  3,  0,  0,  3,  1,  0,  0],\n",
              "         [ 5,  2,  0,  2,  2,  2,  1,  6,  6,  0,  0,  9,  1,  0,  3],\n",
              "         [ 1,  2,  2,  1,  1,  2,  1,  5,  2,  0,  0,  4,  1,  0,  1]]),\n",
              " (5, 15))"
            ]
          },
          "metadata": {},
          "execution_count": 12
        }
      ]
    },
    {
      "cell_type": "code",
      "metadata": {
        "colab": {
          "base_uri": "https://localhost:8080/"
        },
        "id": "o-lK5_bFnJqi",
        "outputId": "3473111b-c00c-44b5-b44a-4bdb8b97836f"
      },
      "source": [
        "vectorizer.get_feature_names()\n",
        "# vectorizer.vocabulary_"
      ],
      "execution_count": null,
      "outputs": [
        {
          "output_type": "execute_result",
          "data": {
            "text/plain": [
              "['adj',\n",
              " 'adp',\n",
              " 'adv',\n",
              " 'aux',\n",
              " 'cconj',\n",
              " 'det',\n",
              " 'end',\n",
              " 'noun',\n",
              " 'num',\n",
              " 'part',\n",
              " 'propn',\n",
              " 'punct',\n",
              " 'start',\n",
              " 'sym',\n",
              " 'verb']"
            ]
          },
          "metadata": {},
          "execution_count": 13
        }
      ]
    },
    {
      "cell_type": "code",
      "metadata": {
        "colab": {
          "base_uri": "https://localhost:8080/"
        },
        "id": "rsRluX9j9Ued",
        "outputId": "9d2eecc2-e857-481b-95da-93f658483251"
      },
      "source": [
        "X.toarray()[0].size, X.get_shape()"
      ],
      "execution_count": null,
      "outputs": [
        {
          "output_type": "execute_result",
          "data": {
            "text/plain": [
              "(15, (5, 15))"
            ]
          },
          "metadata": {},
          "execution_count": 14
        }
      ]
    },
    {
      "cell_type": "code",
      "metadata": {
        "colab": {
          "base_uri": "https://localhost:8080/"
        },
        "id": "C4EakQbFsIJg",
        "outputId": "d6b941e9-5282-46af-99bd-7558a5176d93"
      },
      "source": [
        "Xc = (X.T * X) # this is co-occurrence matrix in sparse csr format\n",
        "Xc.setdiag(0) # sometimes you want to fill same word cooccurence to 0\n",
        "print(Xc.todense()) # print out matrix in dense format"
      ],
      "execution_count": null,
      "outputs": [
        {
          "output_type": "stream",
          "name": "stdout",
          "text": [
            "[[  0  35   7  22  20  26  14  86  65   3   9  94  14   6  22]\n",
            " [ 35   0  10  16  18  23  12  88  46   5  15  79  12  10  18]\n",
            " [  7  10   0   4   4   7   4  24  10   1   3  19   4   2   4]\n",
            " [ 22  16   4   0   9  13   7  39  32   1   3  43   7   2   9]\n",
            " [ 20  18   4   9   0  12   6  43  26   2   6  43   6   4  11]\n",
            " [ 26  23   7  13  12   0   9  55  37   2   6  55   9   4  12]\n",
            " [ 14  12   4   7   6   9   0  29  20   1   3  29   5   2   6]\n",
            " [ 86  88  24  39  43  55  29   0 112  11  33 191  29  22  45]\n",
            " [ 65  46  10  32  26  37  20 112   0   3   9 125  20   6  26]\n",
            " [  3   5   1   1   2   2   1  11   3   0   3   8   1   2   2]\n",
            " [  9  15   3   3   6   6   3  33   9   3   0  24   3   6   6]\n",
            " [ 94  79  19  43  43  55  29 191 125   8  24   0  29  16  47]\n",
            " [ 14  12   4   7   6   9   5  29  20   1   3  29   0   2   6]\n",
            " [  6  10   2   2   4   4   2  22   6   2   6  16   2   0   4]\n",
            " [ 22  18   4   9  11  12   6  45  26   2   6  47   6   4   0]]\n"
          ]
        }
      ]
    },
    {
      "cell_type": "code",
      "metadata": {
        "colab": {
          "base_uri": "https://localhost:8080/",
          "height": 111
        },
        "id": "6XxYRa_VuIf9",
        "outputId": "5f1a22ae-e063-45cc-8e12-de6a910b8194"
      },
      "source": [
        "Xn = (X.T * X)\n",
        "# Xn = elem/x.sum() for elem in x for x in Xn.todense()\n",
        "tr_df = pd.DataFrame(Xn.toarray(), columns=vectorizer.get_feature_names(), index=vectorizer.get_feature_names())\n",
        "tr_df.head(2)"
      ],
      "execution_count": null,
      "outputs": [
        {
          "output_type": "execute_result",
          "data": {
            "text/html": [
              "<div>\n",
              "<style scoped>\n",
              "    .dataframe tbody tr th:only-of-type {\n",
              "        vertical-align: middle;\n",
              "    }\n",
              "\n",
              "    .dataframe tbody tr th {\n",
              "        vertical-align: top;\n",
              "    }\n",
              "\n",
              "    .dataframe thead th {\n",
              "        text-align: right;\n",
              "    }\n",
              "</style>\n",
              "<table border=\"1\" class=\"dataframe\">\n",
              "  <thead>\n",
              "    <tr style=\"text-align: right;\">\n",
              "      <th></th>\n",
              "      <th>adj</th>\n",
              "      <th>adp</th>\n",
              "      <th>adv</th>\n",
              "      <th>aux</th>\n",
              "      <th>cconj</th>\n",
              "      <th>det</th>\n",
              "      <th>end</th>\n",
              "      <th>noun</th>\n",
              "      <th>num</th>\n",
              "      <th>part</th>\n",
              "      <th>propn</th>\n",
              "      <th>punct</th>\n",
              "      <th>start</th>\n",
              "      <th>sym</th>\n",
              "      <th>verb</th>\n",
              "    </tr>\n",
              "  </thead>\n",
              "  <tbody>\n",
              "    <tr>\n",
              "      <th>adj</th>\n",
              "      <td>48</td>\n",
              "      <td>35</td>\n",
              "      <td>7</td>\n",
              "      <td>22</td>\n",
              "      <td>20</td>\n",
              "      <td>26</td>\n",
              "      <td>14</td>\n",
              "      <td>86</td>\n",
              "      <td>65</td>\n",
              "      <td>3</td>\n",
              "      <td>9</td>\n",
              "      <td>94</td>\n",
              "      <td>14</td>\n",
              "      <td>6</td>\n",
              "      <td>22</td>\n",
              "    </tr>\n",
              "    <tr>\n",
              "      <th>adp</th>\n",
              "      <td>35</td>\n",
              "      <td>38</td>\n",
              "      <td>10</td>\n",
              "      <td>16</td>\n",
              "      <td>18</td>\n",
              "      <td>23</td>\n",
              "      <td>12</td>\n",
              "      <td>88</td>\n",
              "      <td>46</td>\n",
              "      <td>5</td>\n",
              "      <td>15</td>\n",
              "      <td>79</td>\n",
              "      <td>12</td>\n",
              "      <td>10</td>\n",
              "      <td>18</td>\n",
              "    </tr>\n",
              "  </tbody>\n",
              "</table>\n",
              "</div>"
            ],
            "text/plain": [
              "     adj  adp  adv  aux  cconj  det  ...  part  propn  punct  start  sym  verb\n",
              "adj   48   35    7   22     20   26  ...     3      9     94     14    6    22\n",
              "adp   35   38   10   16     18   23  ...     5     15     79     12   10    18\n",
              "\n",
              "[2 rows x 15 columns]"
            ]
          },
          "metadata": {},
          "execution_count": 16
        }
      ]
    },
    {
      "cell_type": "code",
      "metadata": {
        "id": "VamgV0Dkx3ez"
      },
      "source": [
        "tr_df2 = tr_df.apply(lambda x: x/x.sum(), axis=0)"
      ],
      "execution_count": null,
      "outputs": []
    },
    {
      "cell_type": "code",
      "metadata": {
        "colab": {
          "base_uri": "https://localhost:8080/",
          "height": 318
        },
        "id": "6agFzheIAYKI",
        "outputId": "6435227d-d484-4029-c484-909071f5c531"
      },
      "source": [
        "# tr_df2.sum(axis=0), tr_df2.sum(axis=1)\n",
        "tr_df2.describe()"
      ],
      "execution_count": null,
      "outputs": [
        {
          "output_type": "execute_result",
          "data": {
            "text/html": [
              "<div>\n",
              "<style scoped>\n",
              "    .dataframe tbody tr th:only-of-type {\n",
              "        vertical-align: middle;\n",
              "    }\n",
              "\n",
              "    .dataframe tbody tr th {\n",
              "        vertical-align: top;\n",
              "    }\n",
              "\n",
              "    .dataframe thead th {\n",
              "        text-align: right;\n",
              "    }\n",
              "</style>\n",
              "<table border=\"1\" class=\"dataframe\">\n",
              "  <thead>\n",
              "    <tr style=\"text-align: right;\">\n",
              "      <th></th>\n",
              "      <th>adj</th>\n",
              "      <th>adp</th>\n",
              "      <th>adv</th>\n",
              "      <th>aux</th>\n",
              "      <th>cconj</th>\n",
              "      <th>det</th>\n",
              "      <th>end</th>\n",
              "      <th>noun</th>\n",
              "      <th>num</th>\n",
              "      <th>part</th>\n",
              "      <th>propn</th>\n",
              "      <th>punct</th>\n",
              "      <th>start</th>\n",
              "      <th>sym</th>\n",
              "      <th>verb</th>\n",
              "    </tr>\n",
              "  </thead>\n",
              "  <tbody>\n",
              "    <tr>\n",
              "      <th>count</th>\n",
              "      <td>15.000000</td>\n",
              "      <td>15.000000</td>\n",
              "      <td>15.000000</td>\n",
              "      <td>15.000000</td>\n",
              "      <td>15.000000</td>\n",
              "      <td>15.000000</td>\n",
              "      <td>15.000000</td>\n",
              "      <td>15.000000</td>\n",
              "      <td>15.000000</td>\n",
              "      <td>15.000000</td>\n",
              "      <td>15.000000</td>\n",
              "      <td>15.000000</td>\n",
              "      <td>15.000000</td>\n",
              "      <td>15.000000</td>\n",
              "      <td>15.000000</td>\n",
              "    </tr>\n",
              "    <tr>\n",
              "      <th>mean</th>\n",
              "      <td>0.066667</td>\n",
              "      <td>0.066667</td>\n",
              "      <td>0.066667</td>\n",
              "      <td>0.066667</td>\n",
              "      <td>0.066667</td>\n",
              "      <td>0.066667</td>\n",
              "      <td>0.066667</td>\n",
              "      <td>0.066667</td>\n",
              "      <td>0.066667</td>\n",
              "      <td>0.066667</td>\n",
              "      <td>0.066667</td>\n",
              "      <td>0.066667</td>\n",
              "      <td>0.066667</td>\n",
              "      <td>0.066667</td>\n",
              "      <td>0.066667</td>\n",
              "    </tr>\n",
              "    <tr>\n",
              "      <th>std</th>\n",
              "      <td>0.061659</td>\n",
              "      <td>0.059323</td>\n",
              "      <td>0.058690</td>\n",
              "      <td>0.061857</td>\n",
              "      <td>0.060270</td>\n",
              "      <td>0.059959</td>\n",
              "      <td>0.059982</td>\n",
              "      <td>0.059429</td>\n",
              "      <td>0.062210</td>\n",
              "      <td>0.062827</td>\n",
              "      <td>0.062827</td>\n",
              "      <td>0.060426</td>\n",
              "      <td>0.059982</td>\n",
              "      <td>0.062827</td>\n",
              "      <td>0.061129</td>\n",
              "    </tr>\n",
              "    <tr>\n",
              "      <th>min</th>\n",
              "      <td>0.006369</td>\n",
              "      <td>0.011765</td>\n",
              "      <td>0.009174</td>\n",
              "      <td>0.004587</td>\n",
              "      <td>0.009091</td>\n",
              "      <td>0.006969</td>\n",
              "      <td>0.006579</td>\n",
              "      <td>0.010848</td>\n",
              "      <td>0.004754</td>\n",
              "      <td>0.021739</td>\n",
              "      <td>0.021739</td>\n",
              "      <td>0.008024</td>\n",
              "      <td>0.006579</td>\n",
              "      <td>0.021739</td>\n",
              "      <td>0.008621</td>\n",
              "    </tr>\n",
              "    <tr>\n",
              "      <th>25%</th>\n",
              "      <td>0.024416</td>\n",
              "      <td>0.028235</td>\n",
              "      <td>0.036697</td>\n",
              "      <td>0.025229</td>\n",
              "      <td>0.027273</td>\n",
              "      <td>0.027875</td>\n",
              "      <td>0.029605</td>\n",
              "      <td>0.028600</td>\n",
              "      <td>0.023772</td>\n",
              "      <td>0.021739</td>\n",
              "      <td>0.021739</td>\n",
              "      <td>0.026580</td>\n",
              "      <td>0.029605</td>\n",
              "      <td>0.021739</td>\n",
              "      <td>0.025862</td>\n",
              "    </tr>\n",
              "    <tr>\n",
              "      <th>50%</th>\n",
              "      <td>0.046709</td>\n",
              "      <td>0.042353</td>\n",
              "      <td>0.036697</td>\n",
              "      <td>0.041284</td>\n",
              "      <td>0.045455</td>\n",
              "      <td>0.041812</td>\n",
              "      <td>0.039474</td>\n",
              "      <td>0.042406</td>\n",
              "      <td>0.041204</td>\n",
              "      <td>0.043478</td>\n",
              "      <td>0.043478</td>\n",
              "      <td>0.043129</td>\n",
              "      <td>0.039474</td>\n",
              "      <td>0.043478</td>\n",
              "      <td>0.047414</td>\n",
              "    </tr>\n",
              "    <tr>\n",
              "      <th>75%</th>\n",
              "      <td>0.088110</td>\n",
              "      <td>0.085882</td>\n",
              "      <td>0.077982</td>\n",
              "      <td>0.087156</td>\n",
              "      <td>0.086364</td>\n",
              "      <td>0.085366</td>\n",
              "      <td>0.085526</td>\n",
              "      <td>0.085799</td>\n",
              "      <td>0.087956</td>\n",
              "      <td>0.065217</td>\n",
              "      <td>0.065217</td>\n",
              "      <td>0.086760</td>\n",
              "      <td>0.085526</td>\n",
              "      <td>0.065217</td>\n",
              "      <td>0.086207</td>\n",
              "    </tr>\n",
              "    <tr>\n",
              "      <th>max</th>\n",
              "      <td>0.199575</td>\n",
              "      <td>0.207059</td>\n",
              "      <td>0.220183</td>\n",
              "      <td>0.197248</td>\n",
              "      <td>0.195455</td>\n",
              "      <td>0.191638</td>\n",
              "      <td>0.190789</td>\n",
              "      <td>0.204142</td>\n",
              "      <td>0.198098</td>\n",
              "      <td>0.239130</td>\n",
              "      <td>0.239130</td>\n",
              "      <td>0.195587</td>\n",
              "      <td>0.190789</td>\n",
              "      <td>0.239130</td>\n",
              "      <td>0.202586</td>\n",
              "    </tr>\n",
              "  </tbody>\n",
              "</table>\n",
              "</div>"
            ],
            "text/plain": [
              "             adj        adp        adv  ...      start        sym       verb\n",
              "count  15.000000  15.000000  15.000000  ...  15.000000  15.000000  15.000000\n",
              "mean    0.066667   0.066667   0.066667  ...   0.066667   0.066667   0.066667\n",
              "std     0.061659   0.059323   0.058690  ...   0.059982   0.062827   0.061129\n",
              "min     0.006369   0.011765   0.009174  ...   0.006579   0.021739   0.008621\n",
              "25%     0.024416   0.028235   0.036697  ...   0.029605   0.021739   0.025862\n",
              "50%     0.046709   0.042353   0.036697  ...   0.039474   0.043478   0.047414\n",
              "75%     0.088110   0.085882   0.077982  ...   0.085526   0.065217   0.086207\n",
              "max     0.199575   0.207059   0.220183  ...   0.190789   0.239130   0.202586\n",
              "\n",
              "[8 rows x 15 columns]"
            ]
          },
          "metadata": {},
          "execution_count": 21
        }
      ]
    },
    {
      "cell_type": "code",
      "metadata": {
        "id": "S4snkN6WHuQp"
      },
      "source": [
        "# tr_df2.iloc[-3].sum(axis=0)\n",
        "def calc_score(comb):\n",
        "  score = 0\n",
        "  for ind, pos in enumerate(comb):\n",
        "    if ind != 0:\n",
        "      # print(f\"{exmp_sent[ind-1]} : {comb[ind-1:ind+1]}\")\n",
        "      prob_trans = round(tr_df2.loc[[comb[ind-1]], comb[ind]][-1],2)\n",
        "      prob_emis = round(emmission_matrix.loc[[exmp_sent[ind-1]], comb[ind]][-1],2)\n",
        "      score += round(prob_trans * prob_emis, 4)\n",
        "      # print(prob_trans, prob_emis, score)\n",
        "      # print(round(tr_df2.loc[[combination_pos1[ind-1]], combination_pos1[ind]][-1],2))\n",
        "      # print(round(emmission_matrix.loc[[exmp_sent[ind-1]], combination_pos1[ind]][-1],2))\n",
        "  return score"
      ],
      "execution_count": null,
      "outputs": []
    },
    {
      "cell_type": "code",
      "metadata": {
        "colab": {
          "base_uri": "https://localhost:8080/"
        },
        "id": "vCNfgnhxUgj1",
        "outputId": "188741fb-0006-4d2f-a9a2-2c06a886ffc2"
      },
      "source": [
        "emmission_matrix.loc[['arrest'], 'noun'][-1], tr_df2.loc[['noun'], 'adp'][-1]"
      ],
      "execution_count": null,
      "outputs": [
        {
          "output_type": "execute_result",
          "data": {
            "text/plain": [
              "(0.034482758620689655, 0.20705882352941177)"
            ]
          },
          "metadata": {},
          "execution_count": 111
        }
      ]
    },
    {
      "cell_type": "code",
      "metadata": {
        "id": "teBXV0Gdnm50"
      },
      "source": [
        "exmp_sent = \"arrest of dilation was the most common indication\".split(\" \")\n",
        "pos_tags = tr_df2.columns\n",
        "combination_pos1 = ['start','noun','adp','noun','aux','det','adv','adj','noun']\n",
        "combination_pos2 = ['start','propn','adv','propn','aux','det','adj','adj','propn']"
      ],
      "execution_count": null,
      "outputs": []
    },
    {
      "cell_type": "code",
      "metadata": {
        "colab": {
          "base_uri": "https://localhost:8080/"
        },
        "id": "1eDuVpipGy1A",
        "outputId": "66ea4f28-24b1-4ea9-b1d5-11de6ca378af"
      },
      "source": [
        "# Calculating score for different combination: combination_pos1 and combination_pos2\n",
        "'''\n",
        "Based on the score, we can check that the first combination is the right combination\n",
        "'''\n",
        "score1 = calc_score(combination_pos1)\n",
        "score2 = calc_score(combination_pos2)\n",
        "print(score1, score2)"
      ],
      "execution_count": null,
      "outputs": [
        {
          "output_type": "stream",
          "name": "stdout",
          "text": [
            "0.359 0.0656\n"
          ]
        }
      ]
    },
    {
      "cell_type": "markdown",
      "metadata": {
        "id": "Z3mN7EiIFJ8r"
      },
      "source": [
        "### Implementation of HMM #2"
      ]
    },
    {
      "cell_type": "markdown",
      "metadata": {
        "id": "MqpXGR0ltWpa"
      },
      "source": [
        "https://www.mygreatlearning.com/blog/pos-tagging/"
      ]
    },
    {
      "cell_type": "markdown",
      "metadata": {
        "id": "knPFoOcWmhrn"
      },
      "source": [
        "![image.png](data:image/png;base64,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)"
      ]
    },
    {
      "cell_type": "markdown",
      "metadata": {
        "id": "wjT7nwI7tGrd"
      },
      "source": [
        "![image.png](data:image/png;base64,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)"
      ]
    },
    {
      "cell_type": "markdown",
      "metadata": {
        "id": "Oerzk9J1t0EQ"
      },
      "source": [
        "![image.png](data:image/png;base64,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)"
      ]
    },
    {
      "cell_type": "code",
      "metadata": {
        "colab": {
          "base_uri": "https://localhost:8080/"
        },
        "id": "_7NV2_TJKTxO",
        "outputId": "484c4fff-65cb-42d4-f8fd-187394b96701"
      },
      "source": [
        "# Importing libraries\n",
        "import nltk\n",
        "import numpy as np\n",
        "import pandas as pd\n",
        "import random\n",
        "from sklearn.model_selection import train_test_split\n",
        "import pprint, time\n",
        " \n",
        "#download the treebank corpus from nltk\n",
        "nltk.download('treebank')\n",
        " \n",
        "#download the universal tagset from nltk\n",
        "nltk.download('universal_tagset')\n",
        " \n",
        "# reading the Treebank tagged sentences\n",
        "nltk_data = list(nltk.corpus.treebank.tagged_sents(tagset='universal'))\n",
        " \n",
        "#print the first two sentences along with tags\n",
        "print(nltk_data[:2])"
      ],
      "execution_count": 1,
      "outputs": [
        {
          "output_type": "stream",
          "name": "stdout",
          "text": [
            "[nltk_data] Downloading package treebank to /root/nltk_data...\n",
            "[nltk_data]   Unzipping corpora/treebank.zip.\n",
            "[nltk_data] Downloading package universal_tagset to /root/nltk_data...\n",
            "[nltk_data]   Unzipping taggers/universal_tagset.zip.\n",
            "[[('Pierre', 'NOUN'), ('Vinken', 'NOUN'), (',', '.'), ('61', 'NUM'), ('years', 'NOUN'), ('old', 'ADJ'), (',', '.'), ('will', 'VERB'), ('join', 'VERB'), ('the', 'DET'), ('board', 'NOUN'), ('as', 'ADP'), ('a', 'DET'), ('nonexecutive', 'ADJ'), ('director', 'NOUN'), ('Nov.', 'NOUN'), ('29', 'NUM'), ('.', '.')], [('Mr.', 'NOUN'), ('Vinken', 'NOUN'), ('is', 'VERB'), ('chairman', 'NOUN'), ('of', 'ADP'), ('Elsevier', 'NOUN'), ('N.V.', 'NOUN'), (',', '.'), ('the', 'DET'), ('Dutch', 'NOUN'), ('publishing', 'VERB'), ('group', 'NOUN'), ('.', '.')]]\n"
          ]
        }
      ]
    },
    {
      "cell_type": "code",
      "metadata": {
        "colab": {
          "base_uri": "https://localhost:8080/"
        },
        "id": "6ovAAAqEKTtO",
        "outputId": "9bf7f74e-d229-41d7-dfcd-426b23feacfb"
      },
      "source": [
        "#print each word with its respective tag for first two sentences\n",
        "for sent in nltk_data[:2]:\n",
        "  for tuple in sent:\n",
        "    print(tuple)"
      ],
      "execution_count": 2,
      "outputs": [
        {
          "output_type": "stream",
          "name": "stdout",
          "text": [
            "('Pierre', 'NOUN')\n",
            "('Vinken', 'NOUN')\n",
            "(',', '.')\n",
            "('61', 'NUM')\n",
            "('years', 'NOUN')\n",
            "('old', 'ADJ')\n",
            "(',', '.')\n",
            "('will', 'VERB')\n",
            "('join', 'VERB')\n",
            "('the', 'DET')\n",
            "('board', 'NOUN')\n",
            "('as', 'ADP')\n",
            "('a', 'DET')\n",
            "('nonexecutive', 'ADJ')\n",
            "('director', 'NOUN')\n",
            "('Nov.', 'NOUN')\n",
            "('29', 'NUM')\n",
            "('.', '.')\n",
            "('Mr.', 'NOUN')\n",
            "('Vinken', 'NOUN')\n",
            "('is', 'VERB')\n",
            "('chairman', 'NOUN')\n",
            "('of', 'ADP')\n",
            "('Elsevier', 'NOUN')\n",
            "('N.V.', 'NOUN')\n",
            "(',', '.')\n",
            "('the', 'DET')\n",
            "('Dutch', 'NOUN')\n",
            "('publishing', 'VERB')\n",
            "('group', 'NOUN')\n",
            "('.', '.')\n"
          ]
        }
      ]
    },
    {
      "cell_type": "code",
      "metadata": {
        "id": "3r-xQLv1Ka78"
      },
      "source": [
        "# split data into training and validation set in the ratio 80:20\n",
        "train_set,test_set =train_test_split(nltk_data,train_size=0.80,test_size=0.20,random_state = 101)"
      ],
      "execution_count": 3,
      "outputs": []
    },
    {
      "cell_type": "code",
      "metadata": {
        "colab": {
          "base_uri": "https://localhost:8080/"
        },
        "id": "aJr9kT8WKa2N",
        "outputId": "c184453f-0a4f-4b3e-dd7b-3f6a17a6fbab"
      },
      "source": [
        "# create list of train and test tagged words\n",
        "train_tagged_words = [ tup for sent in train_set for tup in sent ]\n",
        "test_tagged_words = [ tup for sent in test_set for tup in sent ]\n",
        "print(len(train_tagged_words))\n",
        "print(len(test_tagged_words))"
      ],
      "execution_count": 4,
      "outputs": [
        {
          "output_type": "stream",
          "name": "stdout",
          "text": [
            "80310\n",
            "20366\n"
          ]
        }
      ]
    },
    {
      "cell_type": "code",
      "metadata": {
        "colab": {
          "base_uri": "https://localhost:8080/"
        },
        "id": "3fkj_V4_KawZ",
        "outputId": "d8557fc9-0c05-414d-c59f-59e09a49e137"
      },
      "source": [
        "# check some of the tagged words.\n",
        "train_tagged_words[:5]"
      ],
      "execution_count": 5,
      "outputs": [
        {
          "output_type": "execute_result",
          "data": {
            "text/plain": [
              "[('Drink', 'NOUN'),\n",
              " ('Carrier', 'NOUN'),\n",
              " ('Competes', 'VERB'),\n",
              " ('With', 'ADP'),\n",
              " ('Cartons', 'NOUN')]"
            ]
          },
          "metadata": {},
          "execution_count": 5
        }
      ]
    },
    {
      "cell_type": "code",
      "metadata": {
        "colab": {
          "base_uri": "https://localhost:8080/"
        },
        "id": "c6kGSBAUKmn3",
        "outputId": "dd2443f6-72d3-4ce7-c41a-36685afd897a"
      },
      "source": [
        "#use set datatype to check how many unique tags are present in training data\n",
        "tags = {tag for word,tag in train_tagged_words}\n",
        "print(len(tags))\n",
        "print(tags)\n",
        " \n",
        "# check total words in vocabulary\n",
        "vocab = {word for word,tag in train_tagged_words}"
      ],
      "execution_count": 6,
      "outputs": [
        {
          "output_type": "stream",
          "name": "stdout",
          "text": [
            "12\n",
            "{'DET', 'ADP', 'ADV', 'PRT', 'NOUN', 'X', 'VERB', '.', 'CONJ', 'NUM', 'ADJ', 'PRON'}\n"
          ]
        }
      ]
    },
    {
      "cell_type": "code",
      "metadata": {
        "id": "2vepYaTiKmib"
      },
      "source": [
        "# compute Emission Probability\n",
        "def word_given_tag(word, tag, train_bag = train_tagged_words):\n",
        "    tag_list = [pair for pair in train_bag if pair[1]==tag]\n",
        "    count_tag = len(tag_list)#total number of times the passed tag occurred in train_bag\n",
        "    w_given_tag_list = [pair[0] for pair in tag_list if pair[0]==word]\n",
        "    #now calculate the total number of times the passed word occurred as the passed tag.\n",
        "    count_w_given_tag = len(w_given_tag_list)\n",
        "    return (count_w_given_tag, count_tag)\n",
        "\n",
        "# compute  Transition Probability\n",
        "def t2_given_t1(t2, t1, train_bag = train_tagged_words):\n",
        "    tags = [pair[1] for pair in train_bag]\n",
        "    count_t1 = len([t for t in tags if t==t1])\n",
        "    count_t2_t1 = 0\n",
        "    for index in range(len(tags)-1):\n",
        "        if tags[index]==t1 and tags[index+1] == t2:\n",
        "            count_t2_t1 += 1\n",
        "    return (count_t2_t1, count_t1)\n",
        "\n",
        "def Viterbi(words, train_bag = train_tagged_words):\n",
        "    state = []\n",
        "    T = list(set([pair[1] for pair in train_bag]))\n",
        "     \n",
        "    for key, word in enumerate(words):\n",
        "        #initialise list of probability column for a given observation\n",
        "        p = [] \n",
        "        for tag in T:\n",
        "            if key == 0:\n",
        "                transition_p = tags_df.loc['.', tag]\n",
        "            else:\n",
        "                transition_p = tags_df.loc[state[-1], tag]\n",
        "                 \n",
        "            # compute emission and state probabilities\n",
        "            emission_p = word_given_tag(words[key], tag)[0]/word_given_tag(words[key], tag)[1]\n",
        "            state_probability = emission_p * transition_p    \n",
        "            p.append(state_probability)\n",
        "             \n",
        "        pmax = max(p)\n",
        "        # getting state for which probability is maximum\n",
        "        state_max = T[p.index(pmax)] \n",
        "        state.append(state_max)\n",
        "    return list(zip(words, state))\n",
        "\n",
        "#modified Viterbi to include rule based tagger in it\n",
        "def Viterbi_rule_based(words, train_bag = train_tagged_words):\n",
        "    state = []\n",
        "    T = list(set([pair[1] for pair in train_bag]))\n",
        "    for key, word in enumerate(words):\n",
        "        #initialise list of probability column for a given observation\n",
        "        p = [] \n",
        "        for tag in T:\n",
        "            if key == 0:\n",
        "                transition_p = tags_df.loc['.', tag]\n",
        "            else:\n",
        "                transition_p = tags_df.loc[state[-1], tag]\n",
        "                 \n",
        "            # compute emission and state probabilities\n",
        "            emission_p = word_given_tag(words[key], tag)[0]/word_given_tag(words[key], tag)[1]\n",
        "            state_probability = emission_p * transition_p    \n",
        "            p.append(state_probability)\n",
        "             \n",
        "        pmax = max(p)\n",
        "        state_max = rule_based_tagger.tag([word])[0][1]       \n",
        "        \n",
        "         \n",
        "        if(pmax==0):\n",
        "            state_max = rule_based_tagger.tag([word])[0][1] # assign based on rule based tagger\n",
        "        else:\n",
        "            if state_max != 'X':\n",
        "                # getting state for which probability is maximum\n",
        "                state_max = T[p.index(pmax)]                \n",
        "             \n",
        "         \n",
        "        state.append(state_max)\n",
        "    return list(zip(words, state))"
      ],
      "execution_count": 7,
      "outputs": []
    },
    {
      "cell_type": "code",
      "metadata": {
        "colab": {
          "base_uri": "https://localhost:8080/"
        },
        "id": "iZ-wTaLLKmcG",
        "outputId": "7891aa54-fc8e-454e-9ca5-b9b7e64db294"
      },
      "source": [
        "# creating t x t transition matrix of tags, t= no of tags\n",
        "# Matrix(i, j) represents P(jth tag after the ith tag)\n",
        " \n",
        "tags_matrix = np.zeros((len(tags), len(tags)), dtype='float32')\n",
        "for i, t1 in enumerate(list(tags)):\n",
        "    for j, t2 in enumerate(list(tags)): \n",
        "        tags_matrix[i, j] = t2_given_t1(t2, t1)[0]/t2_given_t1(t2, t1)[1]\n",
        " \n",
        "print(tags_matrix)"
      ],
      "execution_count": 8,
      "outputs": [
        {
          "output_type": "stream",
          "name": "stdout",
          "text": [
            "[[6.03708485e-03 9.91806854e-03 1.20741697e-02 2.87480245e-04\n",
            "  6.35906279e-01 4.51343954e-02 4.02472317e-02 1.73925534e-02\n",
            "  4.31220367e-04 2.28546783e-02 2.06410810e-01 3.30602261e-03]\n",
            " [3.20931405e-01 1.69577319e-02 1.45532778e-02 1.26550242e-03\n",
            "  3.23588967e-01 3.45482156e-02 8.47886596e-03 3.87243740e-02\n",
            "  1.01240189e-03 6.32751212e-02 1.07061505e-01 6.96026310e-02]\n",
            " [7.13731572e-02 1.19472459e-01 8.14584941e-02 1.47401085e-02\n",
            "  3.21955010e-02 2.28859577e-02 3.39022487e-01 1.39255241e-01\n",
            "  6.98215654e-03 2.98681147e-02 1.30721495e-01 1.20248254e-02]\n",
            " [1.01369865e-01 1.95694715e-02 9.39334650e-03 1.17416831e-03\n",
            "  2.50489235e-01 1.21330721e-02 4.01174158e-01 4.50097844e-02\n",
            "  2.34833662e-03 5.67514673e-02 8.29745606e-02 1.76125243e-02]\n",
            " [1.31063312e-02 1.76826611e-01 1.68945398e-02 4.39345129e-02\n",
            "  2.62344331e-01 2.88252197e-02 1.49133503e-01 2.40094051e-01\n",
            "  4.24540639e-02 9.14395228e-03 1.25838192e-02 4.65906132e-03]\n",
            " [5.68902567e-02 1.42225638e-01 2.57543717e-02 1.85085520e-01\n",
            "  6.16951771e-02 7.57255405e-02 2.06419379e-01 1.60868734e-01\n",
            "  1.03786280e-02 3.07514891e-03 1.76821072e-02 5.41995019e-02]\n",
            " [1.33609578e-01 9.23572779e-02 8.38858187e-02 3.06629837e-02\n",
            "  1.10589318e-01 2.15930015e-01 1.67955801e-01 3.48066315e-02\n",
            "  5.43278083e-03 2.28360966e-02 6.63904250e-02 3.55432779e-02]\n",
            " [1.72191828e-01 9.29084867e-02 5.25694676e-02 2.78940029e-03\n",
            "  2.18538776e-01 2.56410260e-02 8.96899477e-02 9.23720598e-02\n",
            "  6.00793920e-02 7.82104954e-02 4.61323895e-02 6.87694475e-02]\n",
            " [1.23490669e-01 5.59824370e-02 5.70801310e-02 4.39077942e-03\n",
            "  3.49066973e-01 9.33040585e-03 1.50384188e-01 3.51262353e-02\n",
            "  5.48847427e-04 4.06147093e-02 1.13611415e-01 6.03732169e-02]\n",
            " [3.57015361e-03 3.74866128e-02 3.57015361e-03 2.60621198e-02\n",
            "  3.51660132e-01 2.02427700e-01 2.07068902e-02 1.19243130e-01\n",
            "  1.42806144e-02 1.84219927e-01 3.53445187e-02 1.42806140e-03]\n",
            " [5.24271838e-03 8.05825219e-02 5.24271838e-03 1.14563107e-02\n",
            "  6.96893215e-01 2.09708735e-02 1.14563107e-02 6.60194159e-02\n",
            "  1.68932043e-02 2.17475723e-02 6.33009672e-02 1.94174761e-04]\n",
            " [9.56719834e-03 2.23234631e-02 3.69020514e-02 1.41230067e-02\n",
            "  2.12756261e-01 8.83826911e-02 4.84738052e-01 4.19134386e-02\n",
            "  5.01138950e-03 6.83371304e-03 7.06150308e-02 6.83371304e-03]]\n"
          ]
        }
      ]
    },
    {
      "cell_type": "code",
      "metadata": {
        "colab": {
          "base_uri": "https://localhost:8080/",
          "height": 423
        },
        "id": "dMXEOik8K4oi",
        "outputId": "b599478d-5301-4681-9858-c084b9fffeac"
      },
      "source": [
        "# convert the matrix to a df for better readability\n",
        "#the table is same as the transition table shown in section 3 of article\n",
        "tags_df = pd.DataFrame(tags_matrix, columns = list(tags), index=list(tags))\n",
        "display(tags_df)"
      ],
      "execution_count": 9,
      "outputs": [
        {
          "output_type": "display_data",
          "data": {
            "text/html": [
              "<div>\n",
              "<style scoped>\n",
              "    .dataframe tbody tr th:only-of-type {\n",
              "        vertical-align: middle;\n",
              "    }\n",
              "\n",
              "    .dataframe tbody tr th {\n",
              "        vertical-align: top;\n",
              "    }\n",
              "\n",
              "    .dataframe thead th {\n",
              "        text-align: right;\n",
              "    }\n",
              "</style>\n",
              "<table border=\"1\" class=\"dataframe\">\n",
              "  <thead>\n",
              "    <tr style=\"text-align: right;\">\n",
              "      <th></th>\n",
              "      <th>DET</th>\n",
              "      <th>ADP</th>\n",
              "      <th>ADV</th>\n",
              "      <th>PRT</th>\n",
              "      <th>NOUN</th>\n",
              "      <th>X</th>\n",
              "      <th>VERB</th>\n",
              "      <th>.</th>\n",
              "      <th>CONJ</th>\n",
              "      <th>NUM</th>\n",
              "      <th>ADJ</th>\n",
              "      <th>PRON</th>\n",
              "    </tr>\n",
              "  </thead>\n",
              "  <tbody>\n",
              "    <tr>\n",
              "      <th>DET</th>\n",
              "      <td>0.006037</td>\n",
              "      <td>0.009918</td>\n",
              "      <td>0.012074</td>\n",
              "      <td>0.000287</td>\n",
              "      <td>0.635906</td>\n",
              "      <td>0.045134</td>\n",
              "      <td>0.040247</td>\n",
              "      <td>0.017393</td>\n",
              "      <td>0.000431</td>\n",
              "      <td>0.022855</td>\n",
              "      <td>0.206411</td>\n",
              "      <td>0.003306</td>\n",
              "    </tr>\n",
              "    <tr>\n",
              "      <th>ADP</th>\n",
              "      <td>0.320931</td>\n",
              "      <td>0.016958</td>\n",
              "      <td>0.014553</td>\n",
              "      <td>0.001266</td>\n",
              "      <td>0.323589</td>\n",
              "      <td>0.034548</td>\n",
              "      <td>0.008479</td>\n",
              "      <td>0.038724</td>\n",
              "      <td>0.001012</td>\n",
              "      <td>0.063275</td>\n",
              "      <td>0.107062</td>\n",
              "      <td>0.069603</td>\n",
              "    </tr>\n",
              "    <tr>\n",
              "      <th>ADV</th>\n",
              "      <td>0.071373</td>\n",
              "      <td>0.119472</td>\n",
              "      <td>0.081458</td>\n",
              "      <td>0.014740</td>\n",
              "      <td>0.032196</td>\n",
              "      <td>0.022886</td>\n",
              "      <td>0.339022</td>\n",
              "      <td>0.139255</td>\n",
              "      <td>0.006982</td>\n",
              "      <td>0.029868</td>\n",
              "      <td>0.130721</td>\n",
              "      <td>0.012025</td>\n",
              "    </tr>\n",
              "    <tr>\n",
              "      <th>PRT</th>\n",
              "      <td>0.101370</td>\n",
              "      <td>0.019569</td>\n",
              "      <td>0.009393</td>\n",
              "      <td>0.001174</td>\n",
              "      <td>0.250489</td>\n",
              "      <td>0.012133</td>\n",
              "      <td>0.401174</td>\n",
              "      <td>0.045010</td>\n",
              "      <td>0.002348</td>\n",
              "      <td>0.056751</td>\n",
              "      <td>0.082975</td>\n",
              "      <td>0.017613</td>\n",
              "    </tr>\n",
              "    <tr>\n",
              "      <th>NOUN</th>\n",
              "      <td>0.013106</td>\n",
              "      <td>0.176827</td>\n",
              "      <td>0.016895</td>\n",
              "      <td>0.043935</td>\n",
              "      <td>0.262344</td>\n",
              "      <td>0.028825</td>\n",
              "      <td>0.149134</td>\n",
              "      <td>0.240094</td>\n",
              "      <td>0.042454</td>\n",
              "      <td>0.009144</td>\n",
              "      <td>0.012584</td>\n",
              "      <td>0.004659</td>\n",
              "    </tr>\n",
              "    <tr>\n",
              "      <th>X</th>\n",
              "      <td>0.056890</td>\n",
              "      <td>0.142226</td>\n",
              "      <td>0.025754</td>\n",
              "      <td>0.185086</td>\n",
              "      <td>0.061695</td>\n",
              "      <td>0.075726</td>\n",
              "      <td>0.206419</td>\n",
              "      <td>0.160869</td>\n",
              "      <td>0.010379</td>\n",
              "      <td>0.003075</td>\n",
              "      <td>0.017682</td>\n",
              "      <td>0.054200</td>\n",
              "    </tr>\n",
              "    <tr>\n",
              "      <th>VERB</th>\n",
              "      <td>0.133610</td>\n",
              "      <td>0.092357</td>\n",
              "      <td>0.083886</td>\n",
              "      <td>0.030663</td>\n",
              "      <td>0.110589</td>\n",
              "      <td>0.215930</td>\n",
              "      <td>0.167956</td>\n",
              "      <td>0.034807</td>\n",
              "      <td>0.005433</td>\n",
              "      <td>0.022836</td>\n",
              "      <td>0.066390</td>\n",
              "      <td>0.035543</td>\n",
              "    </tr>\n",
              "    <tr>\n",
              "      <th>.</th>\n",
              "      <td>0.172192</td>\n",
              "      <td>0.092908</td>\n",
              "      <td>0.052569</td>\n",
              "      <td>0.002789</td>\n",
              "      <td>0.218539</td>\n",
              "      <td>0.025641</td>\n",
              "      <td>0.089690</td>\n",
              "      <td>0.092372</td>\n",
              "      <td>0.060079</td>\n",
              "      <td>0.078210</td>\n",
              "      <td>0.046132</td>\n",
              "      <td>0.068769</td>\n",
              "    </tr>\n",
              "    <tr>\n",
              "      <th>CONJ</th>\n",
              "      <td>0.123491</td>\n",
              "      <td>0.055982</td>\n",
              "      <td>0.057080</td>\n",
              "      <td>0.004391</td>\n",
              "      <td>0.349067</td>\n",
              "      <td>0.009330</td>\n",
              "      <td>0.150384</td>\n",
              "      <td>0.035126</td>\n",
              "      <td>0.000549</td>\n",
              "      <td>0.040615</td>\n",
              "      <td>0.113611</td>\n",
              "      <td>0.060373</td>\n",
              "    </tr>\n",
              "    <tr>\n",
              "      <th>NUM</th>\n",
              "      <td>0.003570</td>\n",
              "      <td>0.037487</td>\n",
              "      <td>0.003570</td>\n",
              "      <td>0.026062</td>\n",
              "      <td>0.351660</td>\n",
              "      <td>0.202428</td>\n",
              "      <td>0.020707</td>\n",
              "      <td>0.119243</td>\n",
              "      <td>0.014281</td>\n",
              "      <td>0.184220</td>\n",
              "      <td>0.035345</td>\n",
              "      <td>0.001428</td>\n",
              "    </tr>\n",
              "    <tr>\n",
              "      <th>ADJ</th>\n",
              "      <td>0.005243</td>\n",
              "      <td>0.080583</td>\n",
              "      <td>0.005243</td>\n",
              "      <td>0.011456</td>\n",
              "      <td>0.696893</td>\n",
              "      <td>0.020971</td>\n",
              "      <td>0.011456</td>\n",
              "      <td>0.066019</td>\n",
              "      <td>0.016893</td>\n",
              "      <td>0.021748</td>\n",
              "      <td>0.063301</td>\n",
              "      <td>0.000194</td>\n",
              "    </tr>\n",
              "    <tr>\n",
              "      <th>PRON</th>\n",
              "      <td>0.009567</td>\n",
              "      <td>0.022323</td>\n",
              "      <td>0.036902</td>\n",
              "      <td>0.014123</td>\n",
              "      <td>0.212756</td>\n",
              "      <td>0.088383</td>\n",
              "      <td>0.484738</td>\n",
              "      <td>0.041913</td>\n",
              "      <td>0.005011</td>\n",
              "      <td>0.006834</td>\n",
              "      <td>0.070615</td>\n",
              "      <td>0.006834</td>\n",
              "    </tr>\n",
              "  </tbody>\n",
              "</table>\n",
              "</div>"
            ],
            "text/plain": [
              "           DET       ADP       ADV  ...       NUM       ADJ      PRON\n",
              "DET   0.006037  0.009918  0.012074  ...  0.022855  0.206411  0.003306\n",
              "ADP   0.320931  0.016958  0.014553  ...  0.063275  0.107062  0.069603\n",
              "ADV   0.071373  0.119472  0.081458  ...  0.029868  0.130721  0.012025\n",
              "PRT   0.101370  0.019569  0.009393  ...  0.056751  0.082975  0.017613\n",
              "NOUN  0.013106  0.176827  0.016895  ...  0.009144  0.012584  0.004659\n",
              "X     0.056890  0.142226  0.025754  ...  0.003075  0.017682  0.054200\n",
              "VERB  0.133610  0.092357  0.083886  ...  0.022836  0.066390  0.035543\n",
              ".     0.172192  0.092908  0.052569  ...  0.078210  0.046132  0.068769\n",
              "CONJ  0.123491  0.055982  0.057080  ...  0.040615  0.113611  0.060373\n",
              "NUM   0.003570  0.037487  0.003570  ...  0.184220  0.035345  0.001428\n",
              "ADJ   0.005243  0.080583  0.005243  ...  0.021748  0.063301  0.000194\n",
              "PRON  0.009567  0.022323  0.036902  ...  0.006834  0.070615  0.006834\n",
              "\n",
              "[12 rows x 12 columns]"
            ]
          },
          "metadata": {}
        }
      ]
    },
    {
      "cell_type": "code",
      "metadata": {
        "id": "3wiN8y7LK4j_"
      },
      "source": [
        "# Let's test our Viterbi algorithm on a few sample sentences of test dataset\n",
        "random.seed(1234)      #define a random seed to get same sentences when run multiple times\n",
        " \n",
        "# choose random 10 numbers\n",
        "rndom = [random.randint(1,len(test_set)) for x in range(10)]\n",
        " \n",
        "# list of 10 sents on which we test the model\n",
        "test_run = [test_set[i] for i in rndom]\n",
        " \n",
        "# list of tagged words\n",
        "test_run_base = [tup for sent in test_run for tup in sent]\n",
        " \n",
        "# list of untagged words\n",
        "test_tagged_words = [tup[0] for sent in test_run for tup in sent]"
      ],
      "execution_count": 10,
      "outputs": []
    },
    {
      "cell_type": "code",
      "metadata": {
        "colab": {
          "base_uri": "https://localhost:8080/"
        },
        "id": "9w6hdDExK4eJ",
        "outputId": "4da04807-c498-4c5b-89bb-3f2e86676022"
      },
      "source": [
        "#Here We will only test 10 sentences to check the accuracy\n",
        "#as testing the whole training set takes huge amount of time\n",
        "start = time.time()\n",
        "tagged_seq = Viterbi(test_tagged_words[:50])\n",
        "end = time.time()\n",
        "difference = end-start\n",
        " \n",
        "print(\"Time taken in seconds: \", difference)\n",
        " \n",
        "# accuracy\n",
        "check = [i for i, j in zip(tagged_seq, test_run_base) if i == j] \n",
        " \n",
        "accuracy = len(check)/len(tagged_seq)\n",
        "print('Viterbi Algorithm Accuracy: ',accuracy*100)"
      ],
      "execution_count": 12,
      "outputs": [
        {
          "output_type": "stream",
          "name": "stdout",
          "text": [
            "Time taken in seconds:  9.842816829681396\n",
            "Viterbi Algorithm Accuracy:  90.0\n"
          ]
        }
      ]
    },
    {
      "cell_type": "code",
      "metadata": {
        "colab": {
          "base_uri": "https://localhost:8080/"
        },
        "id": "K54mbtGeKaqh",
        "outputId": "ceea06fd-0a69-41e2-c514-983bcb96a861"
      },
      "source": [
        "#Code to test all the test sentences\n",
        "#(takes alot of time to run s0 we wont run it here)\n",
        "# tagging the test sentences()\n",
        "test_tagged_words = [tup for sent in test_set for tup in sent]\n",
        "test_untagged_words = [tup[0] for sent in test_set for tup in sent]\n",
        "test_untagged_words\n",
        "\n",
        "start = time.time()\n",
        "tagged_seq = Viterbi(test_untagged_words[:50])\n",
        "end = time.time()\n",
        "difference = end-start\n",
        "\n",
        "print(\"Time taken in seconds: \", difference)\n",
        "\n",
        "# accuracy\n",
        "check = [i for i, j in zip(test_tagged_words, test_untagged_words) if i == j] \n",
        "\n",
        "accuracy = len(check)/len(tagged_seq)\n",
        "print('Viterbi Algorithm Accuracy: ',accuracy*100)"
      ],
      "execution_count": 13,
      "outputs": [
        {
          "output_type": "stream",
          "name": "stdout",
          "text": [
            "Time taken in seconds:  9.615375995635986\n",
            "Viterbi Algorithm Accuracy:  0.0\n"
          ]
        }
      ]
    },
    {
      "cell_type": "code",
      "metadata": {
        "id": "oi_ecsmtLMx2"
      },
      "source": [
        "#To improve the performance,we specify a rule base tagger for unknown words \n",
        "# specify patterns for tagging\n",
        "patterns = [\n",
        "    (r'.*ing$', 'VERB'),              # gerund\n",
        "    (r'.*ed$', 'VERB'),               # past tense \n",
        "    (r'.*es$', 'VERB'),               # verb    \n",
        "    (r'.*\\'s$', 'NOUN'),              # possessive nouns\n",
        "    (r'.*s$', 'NOUN'),                # plural nouns\n",
        "    (r'\\*T?\\*?-[0-9]+$', 'X'),        # X\n",
        "    (r'^-?[0-9]+(.[0-9]+)?$', 'NUM'), # cardinal numbers\n",
        "    (r'.*', 'NOUN')                   # nouns\n",
        "]\n",
        "\n",
        "# rule based tagger\n",
        "rule_based_tagger = nltk.RegexpTagger(patterns)"
      ],
      "execution_count": 14,
      "outputs": []
    },
    {
      "cell_type": "code",
      "metadata": {
        "id": "dp7llp39LMsm"
      },
      "source": [
        "#test accuracy on subset of test data \n",
        "start = time.time()\n",
        "tagged_seq = Viterbi_rule_based(test_tagged_words)\n",
        "end = time.time()\n",
        "difference = end-start\n",
        " \n",
        "print(\"Time taken in seconds: \", difference)\n",
        " \n",
        "# accuracy\n",
        "check = [i for i, j in zip(tagged_seq, test_run_base) if i == j] \n",
        " \n",
        "accuracy = len(check)/len(tagged_seq)\n",
        "print('Viterbi Algorithm Accuracy: ',accuracy*100)"
      ],
      "execution_count": null,
      "outputs": []
    },
    {
      "cell_type": "code",
      "metadata": {
        "id": "vmPj8KoiLX4r",
        "colab": {
          "base_uri": "https://localhost:8080/"
        },
        "outputId": "cb0f47d7-721e-46d3-ba19-38be4bc6eebf"
      },
      "source": [
        "#Check how a sentence is tagged by the two POS taggers\n",
        "#and compare them\n",
        "test_sent=\"Will can see Marry\"\n",
        "pred_tags_rule=Viterbi_rule_based(test_sent.split())\n",
        "pred_tags_withoutRules= Viterbi(test_sent.split())\n",
        "print(pred_tags_rule)\n",
        "print(pred_tags_withoutRules)\n",
        "#Will and Marry are tagged as NUM as they are unknown words for Viterbi Algorithm "
      ],
      "execution_count": null,
      "outputs": [
        {
          "output_type": "stream",
          "name": "stdout",
          "text": [
            "[('Will', 'NOUN'), ('can', 'VERB'), ('see', 'VERB'), ('Marry', 'NOUN')]\n",
            "[('Will', 'VERB'), ('can', 'VERB'), ('see', 'VERB'), ('Marry', 'VERB')]\n"
          ]
        }
      ]
    },
    {
      "cell_type": "markdown",
      "metadata": {
        "id": "WzLz0oryOCHU"
      },
      "source": [
        "### Implementation of HMM #3"
      ]
    },
    {
      "cell_type": "markdown",
      "metadata": {
        "id": "jvWmC2u4diKz"
      },
      "source": [
        "Resources:\n",
        "\n",
        "https://towardsdatascience.com/hidden-markov-model-implemented-from-scratch-72865bda430e\n",
        "\n",
        "https://www.cs.sjsu.edu/~stamp/RUA/HMM.pdf"
      ]
    },
    {
      "cell_type": "code",
      "metadata": {
        "id": "NbJuSskWHUXo"
      },
      "source": [
        "# Implementing Probability Vector\n",
        "class Prob_Vector:\n",
        "  def __init__(self, probabilities: dict):\n",
        "    states = probabilities.keys()\n",
        "    probs = probabilities.values()\n",
        "    assert len(states) == len(probs), \"The prob must match the states\"\n",
        "    assert len(states) == len(set(states)), \"The states must be unique\"\n",
        "    assert abs(sum(probs) - 1.0) < 1e-12, \"Prob must sum up to 1\"\n",
        "    assert len(list(filter(lambda x: 0<=x<=1, probs))) == len(probs), \"Prob must be from [0,1] interval\"\n",
        "    self.states = sorted(probabilities)\n",
        "    self.values = np.array(list(map(lambda x: probabilities[x], self.states))).reshape(1, -1)\n",
        "  \n",
        "  @classmethod\n",
        "  def initialize(cls, state:list):\n",
        "    size = len(states)\n",
        "    rand = np.random.rand(size) / (size**2) + 1 / size\n",
        "    rand /= rand.sum(axis=0)\n",
        "    return cls(dict(zip(state, rand)))\n",
        "  \n",
        "  @classmethod\n",
        "  def from_numpy(cls, array: np.ndarray, state: list):\n",
        "      return cls(dict(zip(states, list(array))))\n",
        "\n",
        "  @property\n",
        "  def dict(self):\n",
        "    return {k:v for k,v in zip(self.states, list(self.values.flatten()))}\n",
        "  \n",
        "  @property\n",
        "  def df(self):\n",
        "    return pd.DataFrame(self.values, columns=self.states, index=['probability'])\n",
        "  \n",
        "  def __repr__(self):\n",
        "    return f\"P({self.states} = {self.values})\"\n",
        "\n",
        "  # To know if any two PV's are equal\n",
        "  def __eq__(self, other):\n",
        "    if not isinstance(other, Prob_Vector):\n",
        "      raise NotImplementedError\n",
        "    if (self.states == other.states) and (self.values == other.values).all():\n",
        "      return True\n",
        "    return False\n",
        "\n",
        "  # To enable selecting value by the key\n",
        "  def __getitem__(self, state:str) -> float:\n",
        "    if state not in self.states:\n",
        "      raise ValueError(\"Requesting unknown prob state from vector\")\n",
        "    index = self.states.index(state)\n",
        "    return float(self.values[0, index])\n",
        "\n",
        "  # Element-wise multiplication of two PV’s\n",
        "  def __mul__(self, other) -> np.ndarray:\n",
        "    if isinstance(other, Prob_Vector):\n",
        "      return self.values * other.values\n",
        "    elif isinstance(other, (int, float)):\n",
        "      return self.values * other\n",
        "    else:\n",
        "      NotImplementedError\n",
        "\n",
        "  # Element-wise multiplication with a scalar.\n",
        "  def __rmul__(self,other) -> np.ndarray:\n",
        "    return self.__mul__(other)\n",
        "\n",
        "  # To perform vector-matrix multiplication\n",
        "  def __matmul__(self, other) -> np.ndarray:\n",
        "    if isinstance(other, Prob_Mat):\n",
        "      return self.values @ other.values\n",
        "\n",
        "  # Division by number\n",
        "  def __truediv__(self, number) -> np.ndarray:\n",
        "    if not isinstance(number, (int, float)):\n",
        "      raise NotImplementedError\n",
        "    x = self.values\n",
        "    return x/number if number!=0 else x/(number+1e-12)\n",
        "\n",
        "  # To find for which state the probability is the highest.\n",
        "  def argmax(self):\n",
        "    index = self.values.argmax()\n",
        "    return self.states[index]"
      ],
      "execution_count": 107,
      "outputs": []
    },
    {
      "cell_type": "code",
      "metadata": {
        "colab": {
          "base_uri": "https://localhost:8080/"
        },
        "id": "OSXTsj73zTkA",
        "outputId": "313589e0-8193-4552-bac1-998788e81067"
      },
      "source": [
        "a1 = Prob_Vector({'rain':0.7,\n",
        "                  'sun':0.3})\n",
        "a2 = Prob_Vector({'sun':0.1,\n",
        "                  'rain':0.9})\n",
        "print(f\"Matrix A \\n {a1.df},\\nMatrix B\\n {a2.df}\")\n",
        "print(f\"\\nMatrix A : {a1.dict},\\nMatrix B : {a2.dict}\")\n",
        "print(f\"\\nProb_vector_representation: {a1.__repr__()}, \\nComparison: {a1.__eq__(a1)}, \\nScalar multiplication: {a1.__truediv__(5)}\")"
      ],
      "execution_count": 5,
      "outputs": [
        {
          "output_type": "stream",
          "name": "stdout",
          "text": [
            "Matrix A \n",
            "              rain  sun\n",
            "probability   0.7  0.3,\n",
            "Matrix B\n",
            "              rain  sun\n",
            "probability   0.9  0.1\n",
            "\n",
            "Matrix A : {'rain': 0.7, 'sun': 0.3},\n",
            "Matrix B : {'rain': 0.9, 'sun': 0.1}\n",
            "\n",
            "Prob_vector_representation: P(['rain', 'sun'] = [[0.7 0.3]]), \n",
            "Comparison: True, \n",
            "Scalar multiplication: [[0.14 0.06]]\n"
          ]
        }
      ]
    },
    {
      "cell_type": "code",
      "metadata": {
        "colab": {
          "base_uri": "https://localhost:8080/"
        },
        "id": "0zHEd6st9mcm",
        "outputId": "5945b7a7-627d-4cdd-a01b-aa4cb42aabf1"
      },
      "source": [
        "print(f\"Comparison: {a1 == a2},\\nElement-wise multiplication: {a1*a2}\")\n",
        "print(f\"Argmax: {a1.argmax()}, \\nGetitem: {a1['rain']}\")\n",
        "print(f\"\")"
      ],
      "execution_count": 6,
      "outputs": [
        {
          "output_type": "stream",
          "name": "stdout",
          "text": [
            "Comparison: False,\n",
            "Element-wise multiplication: [[0.63 0.03]]\n",
            "Argmax: rain, \n",
            "Getitem: 0.7\n",
            "\n"
          ]
        }
      ]
    },
    {
      "cell_type": "code",
      "metadata": {
        "id": "qshNoIQgAQLS"
      },
      "source": [
        "# Class implementation of Prob Matrix\n",
        "class Prob_Mat:\n",
        "  def __init__(self, prob_vect_dict: dict):\n",
        "    assert len(prob_vect_dict) > 1, \"The number of input prob vector must be greater than one\"\n",
        "    assert len(set([str(x.states) for x in prob_vect_dict.values()])) == 1, \"All internal states of all vectors must be identical\"\n",
        "    assert len(prob_vect_dict.keys()) == len(set(prob_vect_dict.keys())), \"All observable must be unique\"\n",
        "    self.states = sorted(prob_vect_dict)\n",
        "    self.observables = prob_vect_dict[self.states[0]].states\n",
        "    self.values = np.stack([prob_vect_dict[x].values for x in self.states]).squeeze()\n",
        "\n",
        "  @classmethod\n",
        "  def initialize(cls, states: list, observables: list):\n",
        "    size = len(states)\n",
        "    rand = np.random.rand(size, len(observables)) / (size**2) + 1 / size\n",
        "    rand /= rand.sum(axis=1).reshape(-1, 1)\n",
        "    aggr = [dict(zip(observables, rand[i, :])) for i in range(len(states))]\n",
        "    pvec = [Prob_Vector(x) for x in aggr]\n",
        "    return cls(dict(zip(states, pvec)))\n",
        "\n",
        "  @classmethod\n",
        "  def from_numpy(cls, array:np.ndarray, states:list, observables:list):\n",
        "    p_vecs = [Prob_Vector(dict(zip(observables, x))) for x in array]\n",
        "    return cls(dict(zip(states, p_vecs)))\n",
        "  \n",
        "  @property\n",
        "  def df(self):\n",
        "    return pd.DataFrame(self.values, columns=self.observables, index=self.states)\n",
        "  \n",
        "  def __repr__(self):\n",
        "    return f\"PM {self.values.shape} states: {self.states}, -> obs: {self.observables}\"\n",
        "  \n",
        "  def __getitem__(self, observables: str) -> np.ndarray:\n",
        "    if observables not in self.observables:\n",
        "      raise ValueError(\"Requesting unknown prob observable from the matrix\")\n",
        "    index = self.observables.index(observables)\n",
        "    return self.values[:, index].reshape(-1, 1)"
      ],
      "execution_count": 108,
      "outputs": []
    },
    {
      "cell_type": "code",
      "metadata": {
        "colab": {
          "base_uri": "https://localhost:8080/"
        },
        "id": "FCFohOjGL_2f",
        "outputId": "ae478ee8-24e7-424a-f2bb-e90c0e479b98"
      },
      "source": [
        "a1 = Prob_Vector({'rain':0.7, 'sun':0.3})\n",
        "a2 = Prob_Vector({'rain':0.6, 'sun':0.4})\n",
        "A = Prob_Mat({\"hot\":a1, \"cold\":a2})\n",
        "print(A)\n",
        "print(A.df)"
      ],
      "execution_count": 11,
      "outputs": [
        {
          "output_type": "stream",
          "name": "stdout",
          "text": [
            "PM (2, 2) states: ['cold', 'hot'], -> obs: ['rain', 'sun']\n",
            "      rain  sun\n",
            "cold   0.6  0.4\n",
            "hot    0.7  0.3\n"
          ]
        }
      ]
    },
    {
      "cell_type": "code",
      "metadata": {
        "colab": {
          "base_uri": "https://localhost:8080/"
        },
        "id": "a6MkMovmOnuX",
        "outputId": "15d9b734-ecfb-4a65-c07e-f7662c7d51d4"
      },
      "source": [
        "b1 = Prob_Vector({'OS':0.1, '1M':0.4, '2L':0.5})\n",
        "b2 = Prob_Vector({'OS':0.7, '1M':0.2, '2L':0.1})\n",
        "B = Prob_Mat({'OH':b1, '1C':b2})\n",
        "print(f\"{B}\\n{B.df}\")"
      ],
      "execution_count": 12,
      "outputs": [
        {
          "output_type": "stream",
          "name": "stdout",
          "text": [
            "PM (2, 3) states: ['1C', 'OH'], -> obs: ['1M', '2L', 'OS']\n",
            "     1M   2L   OS\n",
            "1C  0.2  0.1  0.7\n",
            "OH  0.4  0.5  0.1\n"
          ]
        }
      ]
    },
    {
      "cell_type": "code",
      "metadata": {
        "colab": {
          "base_uri": "https://localhost:8080/"
        },
        "id": "D8jKu50_Y4sB",
        "outputId": "f84d400e-a7a5-43af-a253-3b1278c5011a"
      },
      "source": [
        "P = Prob_Mat.initialize(list('abcd'),list('xyz'))\n",
        "print(f\"Dot product: {a1 @ A} \\nInitialization: {P} \\n{P.df}\")"
      ],
      "execution_count": 13,
      "outputs": [
        {
          "output_type": "stream",
          "name": "stdout",
          "text": [
            "Dot product: [[0.63 0.37]] \n",
            "Initialization: PM (4, 3) states: ['a', 'b', 'c', 'd'], -> obs: ['x', 'y', 'z'] \n",
            "          x         y         z\n",
            "a  0.315806  0.333994  0.350200\n",
            "b  0.301080  0.333187  0.365733\n",
            "c  0.347844  0.307069  0.345087\n",
            "d  0.313114  0.335867  0.351019\n"
          ]
        }
      ]
    },
    {
      "cell_type": "markdown",
      "metadata": {
        "id": "RAitzGwUkLce"
      },
      "source": [
        "* Hidden Markov Model\n",
        "1. Computing Score\n",
        "\n",
        "Find what is the probability of a particular chain of observations O given our (known) model λ = (A, B, π)\n",
        "\n",
        "p(O|X, λ) = ∏ b(O) (the product of all probabilities related to the observables) and \n",
        "\n",
        "p(X|λ)=π ∏ a (the product of all probabilities of transitioning from x at t to x at t + 1\n",
        "\n",
        "The score is\n",
        "![image.png](data:image/png;base64,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)"
      ]
    },
    {
      "cell_type": "code",
      "metadata": {
        "id": "-8dCs11_ZTwd"
      },
      "source": [
        "# Naive implementation Hidden Markov Chains\n",
        "class HiddenMarkovChains:\n",
        "  def __init__(self, T, E, pi):\n",
        "    self.T = T # It is a transition matrix A\n",
        "    self.E = E # It is emission matrix B\n",
        "    self.pi = pi\n",
        "    self.states = pi.states\n",
        "    self.observables = E.observables\n",
        "  \n",
        "  def __repr__(self):\n",
        "    return f\"HMM states: {len(self.states)} -> observables: {len(self.observables)}\"\n",
        "  \n",
        "  @classmethod\n",
        "  def initialize(cls, states:list, observables: list):\n",
        "    T = Prob_Mat.initialize(states, states)\n",
        "    E = Prob_Mat.initialize(states, observables)\n",
        "    pi = Prob_Vector.initialize(states)\n",
        "    return cls(T, E, pi)\n",
        "  \n",
        "  def _create_all_chains(self, chain_length):\n",
        "    return list(product((*(self.states,) *chain_length)))\n",
        "  \n",
        "  def score(self, observations: list) -> float:\n",
        "    def mul(x, y): return x * y\n",
        "    score=0\n",
        "    all_chains = self._create_all_chains(len(observations))\n",
        "    for idx, chain in enumerate(all_chains):\n",
        "      expanded_chain = list(zip(chain, [self.T.states[0]] + list(chain)))\n",
        "      expanded_obser = list(zip(observations, chain))\n",
        "      p_observations = list(map(lambda x: self.E.df.loc[x[1], x[0]], expanded_obser))\n",
        "      p_hidden_state = list(map(lambda x: self.T.df.loc[x[1], x[0]], expanded_chain))\n",
        "      p_hidden_state[0] = self.pi[chain[0]]\n",
        "      score += reduce(mul, p_observations) * reduce(mul, p_hidden_state)\n",
        "    return score"
      ],
      "execution_count": 109,
      "outputs": []
    },
    {
      "cell_type": "code",
      "metadata": {
        "colab": {
          "base_uri": "https://localhost:8080/"
        },
        "id": "Hlh1ZaWioVos",
        "outputId": "14f46018-5ead-4273-d4fb-b0f93e6dc66b"
      },
      "source": [
        "%%time\n",
        "'''\n",
        "We are takins use of weather temperature as Hot(1H) and Cold(2C)\n",
        "then, the relation between annual average temperature and the tree trunk ring sizes: as small(1S), medium(2M) and large(3L)\n",
        "Here we are taking years where temperature unit was not invented. So, using HMM we are predicting the Hidden markov chain Average Annual Temperature based on tree trunk sizes\n",
        "'''\n",
        "a1 = Prob_Vector({'1H':0.7, '2C':0.3})\n",
        "a2 = Prob_Vector({'1H':0.4, '2C':0.6})\n",
        "A = Prob_Mat({\"1H\":a1, \"2C\":a2})\n",
        "\n",
        "b1 = Prob_Vector({'1S':0.1, '2M':0.4, '3L':0.5})\n",
        "b2 = Prob_Vector({'1S':0.7, '2M':0.2, '3L':0.1})\n",
        "B = Prob_Mat({'1H':b1, '2C':b2})\n",
        "\n",
        "pi = Prob_Vector({'1H':0.6, '2C':0.4})\n",
        "\n",
        "hmc = HiddenMarkovChains(A, B, pi)\n",
        "observations = ['1S', '2M', '3L', '2M', '1S']\n",
        "\n",
        "print(f\"Score for {observations} is {hmc.score(observations):f}\")"
      ],
      "execution_count": 7,
      "outputs": [
        {
          "output_type": "stream",
          "name": "stdout",
          "text": [
            "Score for ['1S', '2M', '3L', '2M', '1S'] is 0.003482\n",
            "CPU times: user 131 ms, sys: 4.25 ms, total: 136 ms\n",
            "Wall time: 133 ms\n"
          ]
        }
      ]
    },
    {
      "cell_type": "code",
      "metadata": {
        "colab": {
          "base_uri": "https://localhost:8080/"
        },
        "id": "pFPElBcTpkX8",
        "outputId": "b452d396-808b-4459-b059-eaf0246fda67"
      },
      "source": [
        "# Verifying the score values for all possible observation chains for a model = 1\n",
        "all_possible_obs = {\"1S\", \"2M\", \"3L\"}\n",
        "chain_len = 3\n",
        "all_observ_chains = list(product(*(all_possible_obs,)* chain_len))\n",
        "all_pos_score = list(map(lambda obs: hmc.score(obs), all_observ_chains))\n",
        "print(f\"All possible score added: {round(sum(all_pos_score), 1)}\")"
      ],
      "execution_count": 21,
      "outputs": [
        {
          "output_type": "stream",
          "name": "stdout",
          "text": [
            "All possible score added: 1.0\n"
          ]
        }
      ]
    },
    {
      "cell_type": "code",
      "metadata": {
        "id": "T7IIFwwqsQ63"
      },
      "source": [
        "# Forward Pass implementation of Hidden Markov Chains\n",
        "'''\n",
        "For the above naive method, the number of calculatoins is 2TN^T multiplications, for finding number of certain observation in chain O\n",
        "We can use this method to calculate partial observations of sequence up to time t\n",
        "'''\n",
        "class HiddenMarkovChains_FP(HiddenMarkovChains):\n",
        "  def _alphas(self, observations: list) -> np.ndarray:\n",
        "    alphas = np.zeros((len(observations), len(self.states)))\n",
        "    alphas[0,:] = self.pi.values * self.E[observations[0]].T\n",
        "    for t in range(1, len(observations)):\n",
        "      alphas[t, :] = (alphas[t-1, :].reshape(1, -1) @ self.T.values) * self.E[observations[t]].T\n",
        "    return alphas\n",
        "  def score(self, observations:list) -> float:\n",
        "    alphas = self._alphas(observations)\n",
        "    return float(alphas[-1].sum())"
      ],
      "execution_count": 110,
      "outputs": []
    },
    {
      "cell_type": "code",
      "metadata": {
        "colab": {
          "base_uri": "https://localhost:8080/"
        },
        "id": "tm-ZTFNwvSIG",
        "outputId": "bacd2e58-f3fe-4e63-f106-78658ec7e097"
      },
      "source": [
        "%%time\n",
        "hmc_fp = HiddenMarkovChains_FP(A, B, pi)\n",
        "\n",
        "observ = ['1S', '2M', '3L', '2M', '1S']\n",
        "# Time taken to calculate the score is 10.8ms whereas in Naive method it has taken 133ms\n",
        "# Which means this method is 13 times faster than naive mehtod\n",
        "print(f\"Score for {observ} is {hmc_fp.score(observ):f}\")"
      ],
      "execution_count": 53,
      "outputs": [
        {
          "output_type": "stream",
          "name": "stdout",
          "text": [
            "HiddenMarkovChains               1H   2C\n",
            "probability  0.6  0.4\n",
            "Score for ['1S', '2M', '3L', '2M', '1S'] is 0.003482\n",
            "CPU times: user 7.62 ms, sys: 1.84 ms, total: 9.46 ms\n",
            "Wall time: 10.8 ms\n"
          ]
        }
      ]
    },
    {
      "cell_type": "code",
      "metadata": {
        "colab": {
          "base_uri": "https://localhost:8080/"
        },
        "id": "xlKT8OwnAKSi",
        "outputId": "214158a8-1b15-41e8-f47c-4987f3546934"
      },
      "source": [
        "# Verifying the score values for all possible observation chains for a model = 1\n",
        "all_possible_obs = {\"1S\", \"2M\", \"3L\"}\n",
        "chain_len = 3\n",
        "all_observ_chains = list(product(*(all_possible_obs,)* chain_len))\n",
        "all_pos_score = list(map(lambda obs: hmc_fp.score(obs), all_observ_chains))\n",
        "print(f\"All possible score added: {round(sum(all_pos_score), 1)}\")"
      ],
      "execution_count": 52,
      "outputs": [
        {
          "output_type": "stream",
          "name": "stdout",
          "text": [
            "All possible score added: 1.0\n"
          ]
        }
      ]
    },
    {
      "cell_type": "code",
      "metadata": {
        "id": "CQ2P_ym8CPT2"
      },
      "source": [
        "class HiddenMarkovChain_Simulation(HiddenMarkovChains_FP):\n",
        "  def run(self, length: int) -> (list, list):\n",
        "    assert length >= 0, \"The chain needs to be a non-negative number\"\n",
        "    s_hist = [0] * (length + 1)\n",
        "    o_hist = [0] * (length + 1)\n",
        "    prb = self.pi.values\n",
        "    obs = prb @ self.E.values\n",
        "    s_hist[0] = np.random.choice(self.states, p=prb.flatten())\n",
        "    o_hist[0] = np.random.choice(self.observables, p=obs.flatten())\n",
        "    for t in range(1, length + 1):\n",
        "      prb = prb @ self.T.values\n",
        "      obs = prb @ self.E.values\n",
        "      s_hist[t] = np.random.choice(self.states, p=prb.flatten())\n",
        "      o_hist[t] = np.random.choice(self.observables, p=obs.flatten())\n",
        "    return o_hist, s_hist"
      ],
      "execution_count": 111,
      "outputs": []
    },
    {
      "cell_type": "code",
      "metadata": {
        "colab": {
          "base_uri": "https://localhost:8080/",
          "height": 299
        },
        "id": "Bjdj-ENzE9r4",
        "outputId": "f6eeeb6c-5ea7-4313-fa6a-ec89f95f6cc2"
      },
      "source": [
        "%%time\n",
        "hmc_s = HiddenMarkovChain_Simulation(A, B, pi)\n",
        "observation_hist, states_hist = hmc_s.run(100)\n",
        "length = 100\n",
        "stats = pd.DataFrame({\n",
        "    'observations': observation_hist,\n",
        "    'states': states_hist\n",
        "}).applymap(lambda x: int(x[0])).plot()"
      ],
      "execution_count": 59,
      "outputs": [
        {
          "output_type": "stream",
          "name": "stdout",
          "text": [
            "CPU times: user 42.4 ms, sys: 0 ns, total: 42.4 ms\n",
            "Wall time: 44.3 ms\n"
          ]
        },
        {
          "output_type": "display_data",
          "data": {
            "image/png": "[encoded data removed]",
            "text/plain": [
              "<Figure size 432x288 with 1 Axes>"
            ]
          },
          "metadata": {
            "needs_background": "light"
          }
        }
      ]
    },
    {
      "cell_type": "code",
      "metadata": {
        "colab": {
          "base_uri": "https://localhost:8080/",
          "height": 299
        },
        "id": "C0TCXsyZFocq",
        "outputId": "817ec4df-77c4-46bf-a9f9-0a8d74fbf98e"
      },
      "source": [
        "hmc_s = HiddenMarkovChain_Simulation(A, B, pi)\n",
        "\n",
        "stats = {}\n",
        "for length in np.logspace(1, 5, 40).astype(int):\n",
        "  obs_hist, states_hist = hmc_s.run(length)\n",
        "  stats[length] = pd.DataFrame({\n",
        "    'observations': obs_hist,\n",
        "    'states': states_hist\n",
        "    }).applymap(lambda x: int(x[0]))\n",
        "S = np.array(list(map(lambda x: x['states'].value_counts().to_numpy()/\n",
        "                      len(x), stats.values())))\n",
        "\n",
        "plt.semilogx(np.logspace(1, 5, 40).astype(int), S)\n",
        "plt.xlabel('Chain length T')\n",
        "plt.ylabel('Probability')\n",
        "plt.title('Convergence probabilities')\n",
        "plt.legend(['1H', '2C'])\n",
        "plt.show()"
      ],
      "execution_count": 63,
      "outputs": [
        {
          "output_type": "display_data",
          "data": {
            "image/png": "[encoded data removed]",
            "text/plain": [
              "<Figure size 432x288 with 1 Axes>"
            ]
          },
          "metadata": {
            "needs_background": "light"
          }
        }
      ]
    },
    {
      "cell_type": "code",
      "metadata": {
        "id": "am8Nd04vIFI1"
      },
      "source": [
        "class HiddenMarkovChain_Uncover(HiddenMarkovChain_Simulation):\n",
        "  def _alphas(self, observations: list) -> np.ndarray:\n",
        "    alphas = np.zeros((len(observations), len(self.states)))\n",
        "    alphas[0, :] = self.pi.values * self.E[observations[0]].T\n",
        "    for t in range(1, len(observations)):\n",
        "      alphas[t, :] = (alphas[t-1, :].reshape(1, -1) @ self.T.values) * self.E[observations[t]].T\n",
        "    return alphas\n",
        "    \n",
        "  def _betas(self, observations: list) -> np.ndarray:\n",
        "    betas = np.zeros((len(observations), len(self.states))) \n",
        "    betas[-1, :] = 1\n",
        "    for t in range(len(observations) -2, -1, -1):\n",
        "      betas[t, :] = (self.T.values @ (self.E[observations[t+1]] * betas[t+1,:].reshape(-1, 1))).reshape(1, -1)\n",
        "    return betas\n",
        "  \n",
        "  def uncover(self, observations: list) -> list:\n",
        "    alphas = self._alphas(observations)\n",
        "    betas = self._betas(observations)\n",
        "    maxargs = (alphas * betas).argmax(axis=1)\n",
        "    return list(map(lambda x: self.states[x], maxargs))"
      ],
      "execution_count": 112,
      "outputs": []
    },
    {
      "cell_type": "code",
      "metadata": {
        "id": "Icm_iF5nS4gP"
      },
      "source": [
        "np.random.seed(42)\n",
        "\n",
        "hmc = HiddenMarkovChain_Uncover(A, B, pi)\n",
        "observ_seq, latent_seq = hmc.run(5)\n",
        "uncovered_seq = hmc.uncover(observ_seq)"
      ],
      "execution_count": 67,
      "outputs": []
    },
    {
      "cell_type": "code",
      "metadata": {
        "colab": {
          "base_uri": "https://localhost:8080/"
        },
        "id": "RtaROuaETrsS",
        "outputId": "4d3536b6-49c3-48ec-b3bc-efb1d8f262f4"
      },
      "source": [
        "observ_seq, latent_seq, uncovered_seq"
      ],
      "execution_count": 70,
      "outputs": [
        {
          "output_type": "execute_result",
          "data": {
            "text/plain": [
              "(['3L', '2M', '1S', '3L', '3L', '3L'],\n",
              " ['1H', '2C', '1H', '1H', '2C', '1H'],\n",
              " ['1H', '1H', '2C', '1H', '1H', '1H'])"
            ]
          },
          "metadata": {},
          "execution_count": 70
        }
      ]
    },
    {
      "cell_type": "code",
      "metadata": {
        "colab": {
          "base_uri": "https://localhost:8080/",
          "height": 463
        },
        "id": "Mhs2-HZfUd8a",
        "outputId": "214b38d4-8d32-4c03-ce02-6dd2a33a3e8c"
      },
      "source": [
        "all_possible_states = {'1H', '2C'}\n",
        "chain_length = 6  # any int > 0\n",
        "all_states_chains = list(product(*(all_possible_states,) * chain_length))\n",
        "\n",
        "df = pd.DataFrame(all_states_chains)\n",
        "dfp = pd.DataFrame()\n",
        "\n",
        "for i in range(chain_length):\n",
        "    dfp['p' + str(i)] = df.apply(lambda x: \n",
        "        hmc.E.df.loc[x[i], observ_seq[i]], axis=1)\n",
        "\n",
        "scores = dfp.sum(axis=1).sort_values(ascending=False)\n",
        "df = df.iloc[scores.index]\n",
        "df['score'] = scores\n",
        "df.head(10).reset_index()"
      ],
      "execution_count": 73,
      "outputs": [
        {
          "output_type": "stream",
          "name": "stderr",
          "text": [
            "/usr/local/lib/python3.7/dist-packages/ipykernel_launcher.py:14: SettingWithCopyWarning: \n",
            "A value is trying to be set on a copy of a slice from a DataFrame.\n",
            "Try using .loc[row_indexer,col_indexer] = value instead\n",
            "\n",
            "See the caveats in the documentation: https://pandas.pydata.org/pandas-docs/stable/user_guide/indexing.html#returning-a-view-versus-a-copy\n",
            "  \n"
          ]
        },
        {
          "output_type": "execute_result",
          "data": {
            "text/html": [
              "<div>\n",
              "<style scoped>\n",
              "    .dataframe tbody tr th:only-of-type {\n",
              "        vertical-align: middle;\n",
              "    }\n",
              "\n",
              "    .dataframe tbody tr th {\n",
              "        vertical-align: top;\n",
              "    }\n",
              "\n",
              "    .dataframe thead th {\n",
              "        text-align: right;\n",
              "    }\n",
              "</style>\n",
              "<table border=\"1\" class=\"dataframe\">\n",
              "  <thead>\n",
              "    <tr style=\"text-align: right;\">\n",
              "      <th></th>\n",
              "      <th>index</th>\n",
              "      <th>0</th>\n",
              "      <th>1</th>\n",
              "      <th>2</th>\n",
              "      <th>3</th>\n",
              "      <th>4</th>\n",
              "      <th>5</th>\n",
              "      <th>score</th>\n",
              "    </tr>\n",
              "  </thead>\n",
              "  <tbody>\n",
              "    <tr>\n",
              "      <th>0</th>\n",
              "      <td>55</td>\n",
              "      <td>1H</td>\n",
              "      <td>1H</td>\n",
              "      <td>2C</td>\n",
              "      <td>1H</td>\n",
              "      <td>1H</td>\n",
              "      <td>1H</td>\n",
              "      <td>3.1</td>\n",
              "    </tr>\n",
              "    <tr>\n",
              "      <th>1</th>\n",
              "      <td>39</td>\n",
              "      <td>1H</td>\n",
              "      <td>2C</td>\n",
              "      <td>2C</td>\n",
              "      <td>1H</td>\n",
              "      <td>1H</td>\n",
              "      <td>1H</td>\n",
              "      <td>2.9</td>\n",
              "    </tr>\n",
              "    <tr>\n",
              "      <th>2</th>\n",
              "      <td>23</td>\n",
              "      <td>2C</td>\n",
              "      <td>1H</td>\n",
              "      <td>2C</td>\n",
              "      <td>1H</td>\n",
              "      <td>1H</td>\n",
              "      <td>1H</td>\n",
              "      <td>2.7</td>\n",
              "    </tr>\n",
              "    <tr>\n",
              "      <th>3</th>\n",
              "      <td>53</td>\n",
              "      <td>1H</td>\n",
              "      <td>1H</td>\n",
              "      <td>2C</td>\n",
              "      <td>1H</td>\n",
              "      <td>2C</td>\n",
              "      <td>1H</td>\n",
              "      <td>2.7</td>\n",
              "    </tr>\n",
              "    <tr>\n",
              "      <th>4</th>\n",
              "      <td>54</td>\n",
              "      <td>1H</td>\n",
              "      <td>1H</td>\n",
              "      <td>2C</td>\n",
              "      <td>1H</td>\n",
              "      <td>1H</td>\n",
              "      <td>2C</td>\n",
              "      <td>2.7</td>\n",
              "    </tr>\n",
              "    <tr>\n",
              "      <th>5</th>\n",
              "      <td>51</td>\n",
              "      <td>1H</td>\n",
              "      <td>1H</td>\n",
              "      <td>2C</td>\n",
              "      <td>2C</td>\n",
              "      <td>1H</td>\n",
              "      <td>1H</td>\n",
              "      <td>2.7</td>\n",
              "    </tr>\n",
              "    <tr>\n",
              "      <th>6</th>\n",
              "      <td>63</td>\n",
              "      <td>1H</td>\n",
              "      <td>1H</td>\n",
              "      <td>1H</td>\n",
              "      <td>1H</td>\n",
              "      <td>1H</td>\n",
              "      <td>1H</td>\n",
              "      <td>2.5</td>\n",
              "    </tr>\n",
              "    <tr>\n",
              "      <th>7</th>\n",
              "      <td>7</td>\n",
              "      <td>2C</td>\n",
              "      <td>2C</td>\n",
              "      <td>2C</td>\n",
              "      <td>1H</td>\n",
              "      <td>1H</td>\n",
              "      <td>1H</td>\n",
              "      <td>2.5</td>\n",
              "    </tr>\n",
              "    <tr>\n",
              "      <th>8</th>\n",
              "      <td>37</td>\n",
              "      <td>1H</td>\n",
              "      <td>2C</td>\n",
              "      <td>2C</td>\n",
              "      <td>1H</td>\n",
              "      <td>2C</td>\n",
              "      <td>1H</td>\n",
              "      <td>2.5</td>\n",
              "    </tr>\n",
              "    <tr>\n",
              "      <th>9</th>\n",
              "      <td>35</td>\n",
              "      <td>1H</td>\n",
              "      <td>2C</td>\n",
              "      <td>2C</td>\n",
              "      <td>2C</td>\n",
              "      <td>1H</td>\n",
              "      <td>1H</td>\n",
              "      <td>2.5</td>\n",
              "    </tr>\n",
              "  </tbody>\n",
              "</table>\n",
              "</div>"
            ],
            "text/plain": [
              "   index   0   1   2   3   4   5  score\n",
              "0     55  1H  1H  2C  1H  1H  1H    3.1\n",
              "1     39  1H  2C  2C  1H  1H  1H    2.9\n",
              "2     23  2C  1H  2C  1H  1H  1H    2.7\n",
              "3     53  1H  1H  2C  1H  2C  1H    2.7\n",
              "4     54  1H  1H  2C  1H  1H  2C    2.7\n",
              "5     51  1H  1H  2C  2C  1H  1H    2.7\n",
              "6     63  1H  1H  1H  1H  1H  1H    2.5\n",
              "7      7  2C  2C  2C  1H  1H  1H    2.5\n",
              "8     37  1H  2C  2C  1H  2C  1H    2.5\n",
              "9     35  1H  2C  2C  2C  1H  1H    2.5"
            ]
          },
          "metadata": {},
          "execution_count": 73
        }
      ]
    },
    {
      "cell_type": "code",
      "metadata": {
        "colab": {
          "base_uri": "https://localhost:8080/",
          "height": 80
        },
        "id": "DKkJIU7KUjED",
        "outputId": "cbba08f6-e85f-451c-f613-3374e82a2cd0"
      },
      "source": [
        "dfc = df.copy().reset_index()\n",
        "for i in range(chain_length):\n",
        "    dfc = dfc[dfc[i] == latent_seq[i]]\n",
        "\n",
        "dfc"
      ],
      "execution_count": 75,
      "outputs": [
        {
          "output_type": "execute_result",
          "data": {
            "text/html": [
              "<div>\n",
              "<style scoped>\n",
              "    .dataframe tbody tr th:only-of-type {\n",
              "        vertical-align: middle;\n",
              "    }\n",
              "\n",
              "    .dataframe tbody tr th {\n",
              "        vertical-align: top;\n",
              "    }\n",
              "\n",
              "    .dataframe thead th {\n",
              "        text-align: right;\n",
              "    }\n",
              "</style>\n",
              "<table border=\"1\" class=\"dataframe\">\n",
              "  <thead>\n",
              "    <tr style=\"text-align: right;\">\n",
              "      <th></th>\n",
              "      <th>index</th>\n",
              "      <th>0</th>\n",
              "      <th>1</th>\n",
              "      <th>2</th>\n",
              "      <th>3</th>\n",
              "      <th>4</th>\n",
              "      <th>5</th>\n",
              "      <th>score</th>\n",
              "    </tr>\n",
              "  </thead>\n",
              "  <tbody>\n",
              "    <tr>\n",
              "      <th>34</th>\n",
              "      <td>45</td>\n",
              "      <td>1H</td>\n",
              "      <td>2C</td>\n",
              "      <td>1H</td>\n",
              "      <td>1H</td>\n",
              "      <td>2C</td>\n",
              "      <td>1H</td>\n",
              "      <td>1.9</td>\n",
              "    </tr>\n",
              "  </tbody>\n",
              "</table>\n",
              "</div>"
            ],
            "text/plain": [
              "    index   0   1   2   3   4   5  score\n",
              "34     45  1H  2C  1H  1H  2C  1H    1.9"
            ]
          },
          "metadata": {},
          "execution_count": 75
        }
      ]
    },
    {
      "cell_type": "code",
      "metadata": {
        "id": "7_2x5D-XU3eC"
      },
      "source": [
        "class HiddenMarkovLayer(HiddenMarkovChain_Uncover):\n",
        "    def _digammas(self, observations: list) -> np.ndarray:\n",
        "        L, N = len(observations), len(self.states)\n",
        "        digammas = np.zeros((L - 1, N, N))\n",
        "\n",
        "        alphas = self._alphas(observations)\n",
        "        betas = self._betas(observations)\n",
        "        score = self.score(observations)\n",
        "        for t in range(L - 1):\n",
        "            P1 = (alphas[t, :].reshape(-1, 1) * self.T.values)\n",
        "            P2 = self.E[observations[t + 1]].T * betas[t + 1].reshape(1, -1)\n",
        "            digammas[t, :, :] = P1 * P2 / score\n",
        "        return digammas"
      ],
      "execution_count": 113,
      "outputs": []
    },
    {
      "cell_type": "code",
      "metadata": {
        "id": "GbnxGvSBVCPq"
      },
      "source": [
        "class HiddenMarkovModel:\n",
        "    def __init__(self, hml: HiddenMarkovLayer):\n",
        "        self.layer = hml\n",
        "        self._score_init = 0\n",
        "        self.score_history = []\n",
        "\n",
        "    @classmethod\n",
        "    def initialize(cls, states: list, observables: list):\n",
        "        layer = HiddenMarkovLayer.initialize(states, observables)\n",
        "        return cls(layer)\n",
        "\n",
        "    def update(self, observations: list) -> float:\n",
        "        alpha = self.layer._alphas(observations)\n",
        "        beta = self.layer._betas(observations)\n",
        "        digamma = self.layer._digammas(observations)\n",
        "        score = alpha[-1].sum()\n",
        "        gamma = alpha * beta / score \n",
        "\n",
        "        L = len(alpha)\n",
        "        obs_idx = [self.layer.observables.index(x) \\\n",
        "                  for x in observations]\n",
        "        capture = np.zeros((L, len(self.layer.states), len(self.layer.observables)))\n",
        "        for t in range(L):\n",
        "            capture[t, :, obs_idx[t]] = 1.0\n",
        "\n",
        "        pi = gamma[0]\n",
        "        T = digamma.sum(axis=0) / gamma[:-1].sum(axis=0).reshape(-1, 1)\n",
        "        E = (capture * gamma[:, :, np.newaxis]).sum(axis=0) / gamma.sum(axis=0).reshape(-1, 1)\n",
        "\n",
        "        self.layer.pi = Prob_Vector.from_numpy(pi, self.layer.states)\n",
        "        self.layer.T = Prob_Mat.from_numpy(T, self.layer.states, self.layer.states)\n",
        "        self.layer.E = Prob_Mat.from_numpy(E, self.layer.states, self.layer.observables)\n",
        "            \n",
        "        return score\n",
        "\n",
        "    def train(self, observations: list, epochs: int, tol=None):\n",
        "        self._score_init = 0\n",
        "        self.score_history = (epochs + 1) * [0]\n",
        "        early_stopping = isinstance(tol, (int, float))\n",
        "\n",
        "        for epoch in range(1, epochs + 1):\n",
        "            score = self.update(observations)\n",
        "            print(\"Training... epoch = {} out of {}, score = {}.\".format(epoch, epochs, score))\n",
        "            if early_stopping and abs(self._score_init - score) / score < tol:\n",
        "                print(\"Early stopping.\")\n",
        "                break\n",
        "            self._score_init = score\n",
        "            self.score_history[epoch] = score"
      ],
      "execution_count": 114,
      "outputs": []
    },
    {
      "cell_type": "code",
      "metadata": {
        "colab": {
          "base_uri": "https://localhost:8080/"
        },
        "id": "qtboeQcXVgAN",
        "outputId": "61b55edc-28ed-4582-f479-008253159349"
      },
      "source": [
        "  np.random.seed(42)\n",
        "\n",
        "observations = ['3L', '2M', '1S', '3L', '3L', '3L']\n",
        "\n",
        "states = ['1H', '2C']\n",
        "observables = ['1S', '2M', '3L']\n",
        "\n",
        "hml = HiddenMarkovLayer.initialize(states, observables)\n",
        "hmm = HiddenMarkovModel(hml)\n",
        "\n",
        "hmm.train(observations, 25)"
      ],
      "execution_count": 115,
      "outputs": [
        {
          "output_type": "stream",
          "name": "stdout",
          "text": [
            "Training... epoch = 1 out of 25, score = 0.0013006714785001687.\n",
            "Training... epoch = 2 out of 25, score = 0.005509420540117932.\n",
            "Training... epoch = 3 out of 25, score = 0.005530858882821684.\n",
            "Training... epoch = 4 out of 25, score = 0.005567116674468162.\n",
            "Training... epoch = 5 out of 25, score = 0.005630618250468579.\n",
            "Training... epoch = 6 out of 25, score = 0.005741158382934701.\n",
            "Training... epoch = 7 out of 25, score = 0.005928044110628503.\n",
            "Training... epoch = 8 out of 25, score = 0.006225866084209224.\n",
            "Training... epoch = 9 out of 25, score = 0.006652847604517526.\n",
            "Training... epoch = 10 out of 25, score = 0.007171787873640834.\n",
            "Training... epoch = 11 out of 25, score = 0.007683641981602107.\n",
            "Training... epoch = 12 out of 25, score = 0.008100845554754058.\n",
            "Training... epoch = 13 out of 25, score = 0.008410987791562236.\n",
            "Training... epoch = 14 out of 25, score = 0.008650795046039243.\n",
            "Training... epoch = 15 out of 25, score = 0.008861021470118073.\n",
            "Training... epoch = 16 out of 25, score = 0.009075097673252739.\n",
            "Training... epoch = 17 out of 25, score = 0.00932995140697098.\n",
            "Training... epoch = 18 out of 25, score = 0.009689333039044718.\n",
            "Training... epoch = 19 out of 25, score = 0.010287878216415929.\n",
            "Training... epoch = 20 out of 25, score = 0.01140101941878141.\n",
            "Training... epoch = 21 out of 25, score = 0.0134247869818379.\n",
            "Training... epoch = 22 out of 25, score = 0.01631351157894497.\n",
            "Training... epoch = 23 out of 25, score = 0.01890864821477483.\n",
            "Training... epoch = 24 out of 25, score = 0.020384565549170928.\n",
            "Training... epoch = 25 out of 25, score = 0.02110513905660724.\n"
          ]
        }
      ]
    },
    {
      "cell_type": "code",
      "metadata": {
        "id": "z-yI0rJ4b9Wh"
      },
      "source": [
        "RUNS = 100000\n",
        "T = 5\n",
        "\n",
        "chains = RUNS * [0]\n",
        "for i in range(len(chains)):\n",
        "    chain = hmm.layer.run(T)[0]\n",
        "    chains[i] = '-'.join(chain)"
      ],
      "execution_count": 116,
      "outputs": []
    },
    {
      "cell_type": "code",
      "metadata": {
        "colab": {
          "base_uri": "https://localhost:8080/"
        },
        "id": "dC5KIuG9cZvr",
        "outputId": "c1837883-452d-49c3-b24d-f59459619fca"
      },
      "source": [
        "chains[:10], len(chains)"
      ],
      "execution_count": 121,
      "outputs": [
        {
          "output_type": "execute_result",
          "data": {
            "text/plain": [
              "(['1S-2M-3L-2M-1S-3L',\n",
              "  '3L-3L-1S-2M-3L-3L',\n",
              "  '1S-3L-3L-3L-3L-3L',\n",
              "  '1S-3L-3L-3L-1S-2M',\n",
              "  '1S-3L-3L-3L-3L-2M',\n",
              "  '3L-3L-1S-2M-3L-2M',\n",
              "  '1S-3L-3L-3L-3L-3L',\n",
              "  '3L-2M-3L-3L-1S-3L',\n",
              "  '1S-2M-3L-3L-1S-3L',\n",
              "  '3L-2M-3L-3L-3L-2M'],\n",
              " 100000)"
            ]
          },
          "metadata": {},
          "execution_count": 121
        }
      ]
    },
    {
      "cell_type": "code",
      "metadata": {
        "colab": {
          "base_uri": "https://localhost:8080/",
          "height": 983
        },
        "id": "EVYZYusacEAD",
        "outputId": "55ac8b4c-189a-4b71-cb7e-e22f44057cc0"
      },
      "source": [
        "df = pd.DataFrame(pd.Series(chains).value_counts(), columns=['counts']).reset_index().rename(columns={'index': 'chain'})\n",
        "df = pd.merge(df, df['chain'].str.split('-', expand=True), left_index=True, right_index=True)\n",
        "\n",
        "s = []\n",
        "for i in range(T + 1):\n",
        "    s.append(df.apply(lambda x: x[i] == observations[i], axis=1))\n",
        "\n",
        "df['matched'] = pd.concat(s, axis=1).sum(axis=1)\n",
        "df['counts'] = df['counts'] / RUNS * 100\n",
        "df = df.drop(columns=['chain'])\n",
        "df.head(30)"
      ],
      "execution_count": 122,
      "outputs": [
        {
          "output_type": "execute_result",
          "data": {
            "text/html": [
              "<div>\n",
              "<style scoped>\n",
              "    .dataframe tbody tr th:only-of-type {\n",
              "        vertical-align: middle;\n",
              "    }\n",
              "\n",
              "    .dataframe tbody tr th {\n",
              "        vertical-align: top;\n",
              "    }\n",
              "\n",
              "    .dataframe thead th {\n",
              "        text-align: right;\n",
              "    }\n",
              "</style>\n",
              "<table border=\"1\" class=\"dataframe\">\n",
              "  <thead>\n",
              "    <tr style=\"text-align: right;\">\n",
              "      <th></th>\n",
              "      <th>counts</th>\n",
              "      <th>0</th>\n",
              "      <th>1</th>\n",
              "      <th>2</th>\n",
              "      <th>3</th>\n",
              "      <th>4</th>\n",
              "      <th>5</th>\n",
              "      <th>matched</th>\n",
              "    </tr>\n",
              "  </thead>\n",
              "  <tbody>\n",
              "    <tr>\n",
              "      <th>0</th>\n",
              "      <td>8.907</td>\n",
              "      <td>3L</td>\n",
              "      <td>3L</td>\n",
              "      <td>3L</td>\n",
              "      <td>3L</td>\n",
              "      <td>3L</td>\n",
              "      <td>3L</td>\n",
              "      <td>4</td>\n",
              "    </tr>\n",
              "    <tr>\n",
              "      <th>1</th>\n",
              "      <td>4.422</td>\n",
              "      <td>3L</td>\n",
              "      <td>2M</td>\n",
              "      <td>3L</td>\n",
              "      <td>3L</td>\n",
              "      <td>3L</td>\n",
              "      <td>3L</td>\n",
              "      <td>5</td>\n",
              "    </tr>\n",
              "    <tr>\n",
              "      <th>2</th>\n",
              "      <td>4.286</td>\n",
              "      <td>1S</td>\n",
              "      <td>3L</td>\n",
              "      <td>3L</td>\n",
              "      <td>3L</td>\n",
              "      <td>3L</td>\n",
              "      <td>3L</td>\n",
              "      <td>3</td>\n",
              "    </tr>\n",
              "    <tr>\n",
              "      <th>3</th>\n",
              "      <td>4.284</td>\n",
              "      <td>3L</td>\n",
              "      <td>3L</td>\n",
              "      <td>3L</td>\n",
              "      <td>3L</td>\n",
              "      <td>3L</td>\n",
              "      <td>2M</td>\n",
              "      <td>3</td>\n",
              "    </tr>\n",
              "    <tr>\n",
              "      <th>4</th>\n",
              "      <td>4.278</td>\n",
              "      <td>3L</td>\n",
              "      <td>3L</td>\n",
              "      <td>3L</td>\n",
              "      <td>2M</td>\n",
              "      <td>3L</td>\n",
              "      <td>3L</td>\n",
              "      <td>3</td>\n",
              "    </tr>\n",
              "    <tr>\n",
              "      <th>5</th>\n",
              "      <td>4.227</td>\n",
              "      <td>3L</td>\n",
              "      <td>3L</td>\n",
              "      <td>1S</td>\n",
              "      <td>3L</td>\n",
              "      <td>3L</td>\n",
              "      <td>3L</td>\n",
              "      <td>5</td>\n",
              "    </tr>\n",
              "    <tr>\n",
              "      <th>6</th>\n",
              "      <td>4.179</td>\n",
              "      <td>3L</td>\n",
              "      <td>3L</td>\n",
              "      <td>3L</td>\n",
              "      <td>3L</td>\n",
              "      <td>1S</td>\n",
              "      <td>3L</td>\n",
              "      <td>3</td>\n",
              "    </tr>\n",
              "    <tr>\n",
              "      <th>7</th>\n",
              "      <td>2.179</td>\n",
              "      <td>3L</td>\n",
              "      <td>2M</td>\n",
              "      <td>3L</td>\n",
              "      <td>2M</td>\n",
              "      <td>3L</td>\n",
              "      <td>3L</td>\n",
              "      <td>4</td>\n",
              "    </tr>\n",
              "    <tr>\n",
              "      <th>8</th>\n",
              "      <td>2.173</td>\n",
              "      <td>3L</td>\n",
              "      <td>2M</td>\n",
              "      <td>3L</td>\n",
              "      <td>3L</td>\n",
              "      <td>1S</td>\n",
              "      <td>3L</td>\n",
              "      <td>4</td>\n",
              "    </tr>\n",
              "    <tr>\n",
              "      <th>9</th>\n",
              "      <td>2.165</td>\n",
              "      <td>1S</td>\n",
              "      <td>3L</td>\n",
              "      <td>1S</td>\n",
              "      <td>3L</td>\n",
              "      <td>3L</td>\n",
              "      <td>3L</td>\n",
              "      <td>4</td>\n",
              "    </tr>\n",
              "    <tr>\n",
              "      <th>10</th>\n",
              "      <td>2.147</td>\n",
              "      <td>3L</td>\n",
              "      <td>2M</td>\n",
              "      <td>3L</td>\n",
              "      <td>3L</td>\n",
              "      <td>3L</td>\n",
              "      <td>2M</td>\n",
              "      <td>4</td>\n",
              "    </tr>\n",
              "    <tr>\n",
              "      <th>11</th>\n",
              "      <td>2.136</td>\n",
              "      <td>3L</td>\n",
              "      <td>3L</td>\n",
              "      <td>3L</td>\n",
              "      <td>2M</td>\n",
              "      <td>3L</td>\n",
              "      <td>2M</td>\n",
              "      <td>2</td>\n",
              "    </tr>\n",
              "    <tr>\n",
              "      <th>12</th>\n",
              "      <td>2.121</td>\n",
              "      <td>3L</td>\n",
              "      <td>2M</td>\n",
              "      <td>1S</td>\n",
              "      <td>3L</td>\n",
              "      <td>3L</td>\n",
              "      <td>3L</td>\n",
              "      <td>6</td>\n",
              "    </tr>\n",
              "    <tr>\n",
              "      <th>13</th>\n",
              "      <td>2.111</td>\n",
              "      <td>1S</td>\n",
              "      <td>3L</td>\n",
              "      <td>3L</td>\n",
              "      <td>2M</td>\n",
              "      <td>3L</td>\n",
              "      <td>3L</td>\n",
              "      <td>2</td>\n",
              "    </tr>\n",
              "    <tr>\n",
              "      <th>14</th>\n",
              "      <td>2.100</td>\n",
              "      <td>1S</td>\n",
              "      <td>2M</td>\n",
              "      <td>3L</td>\n",
              "      <td>3L</td>\n",
              "      <td>3L</td>\n",
              "      <td>3L</td>\n",
              "      <td>4</td>\n",
              "    </tr>\n",
              "    <tr>\n",
              "      <th>15</th>\n",
              "      <td>2.075</td>\n",
              "      <td>3L</td>\n",
              "      <td>3L</td>\n",
              "      <td>3L</td>\n",
              "      <td>2M</td>\n",
              "      <td>1S</td>\n",
              "      <td>3L</td>\n",
              "      <td>2</td>\n",
              "    </tr>\n",
              "    <tr>\n",
              "      <th>16</th>\n",
              "      <td>2.050</td>\n",
              "      <td>1S</td>\n",
              "      <td>3L</td>\n",
              "      <td>3L</td>\n",
              "      <td>3L</td>\n",
              "      <td>3L</td>\n",
              "      <td>2M</td>\n",
              "      <td>2</td>\n",
              "    </tr>\n",
              "    <tr>\n",
              "      <th>17</th>\n",
              "      <td>2.040</td>\n",
              "      <td>3L</td>\n",
              "      <td>3L</td>\n",
              "      <td>1S</td>\n",
              "      <td>3L</td>\n",
              "      <td>3L</td>\n",
              "      <td>2M</td>\n",
              "      <td>4</td>\n",
              "    </tr>\n",
              "    <tr>\n",
              "      <th>18</th>\n",
              "      <td>2.038</td>\n",
              "      <td>3L</td>\n",
              "      <td>3L</td>\n",
              "      <td>1S</td>\n",
              "      <td>2M</td>\n",
              "      <td>3L</td>\n",
              "      <td>3L</td>\n",
              "      <td>4</td>\n",
              "    </tr>\n",
              "    <tr>\n",
              "      <th>19</th>\n",
              "      <td>2.022</td>\n",
              "      <td>3L</td>\n",
              "      <td>3L</td>\n",
              "      <td>1S</td>\n",
              "      <td>3L</td>\n",
              "      <td>1S</td>\n",
              "      <td>3L</td>\n",
              "      <td>4</td>\n",
              "    </tr>\n",
              "    <tr>\n",
              "      <th>20</th>\n",
              "      <td>2.008</td>\n",
              "      <td>1S</td>\n",
              "      <td>3L</td>\n",
              "      <td>3L</td>\n",
              "      <td>3L</td>\n",
              "      <td>1S</td>\n",
              "      <td>3L</td>\n",
              "      <td>2</td>\n",
              "    </tr>\n",
              "    <tr>\n",
              "      <th>21</th>\n",
              "      <td>1.955</td>\n",
              "      <td>3L</td>\n",
              "      <td>3L</td>\n",
              "      <td>3L</td>\n",
              "      <td>3L</td>\n",
              "      <td>1S</td>\n",
              "      <td>2M</td>\n",
              "      <td>2</td>\n",
              "    </tr>\n",
              "    <tr>\n",
              "      <th>22</th>\n",
              "      <td>1.079</td>\n",
              "      <td>1S</td>\n",
              "      <td>2M</td>\n",
              "      <td>3L</td>\n",
              "      <td>2M</td>\n",
              "      <td>3L</td>\n",
              "      <td>3L</td>\n",
              "      <td>3</td>\n",
              "    </tr>\n",
              "    <tr>\n",
              "      <th>23</th>\n",
              "      <td>1.077</td>\n",
              "      <td>1S</td>\n",
              "      <td>2M</td>\n",
              "      <td>3L</td>\n",
              "      <td>3L</td>\n",
              "      <td>3L</td>\n",
              "      <td>2M</td>\n",
              "      <td>3</td>\n",
              "    </tr>\n",
              "    <tr>\n",
              "      <th>24</th>\n",
              "      <td>1.075</td>\n",
              "      <td>3L</td>\n",
              "      <td>2M</td>\n",
              "      <td>1S</td>\n",
              "      <td>2M</td>\n",
              "      <td>3L</td>\n",
              "      <td>3L</td>\n",
              "      <td>5</td>\n",
              "    </tr>\n",
              "    <tr>\n",
              "      <th>25</th>\n",
              "      <td>1.064</td>\n",
              "      <td>1S</td>\n",
              "      <td>2M</td>\n",
              "      <td>1S</td>\n",
              "      <td>3L</td>\n",
              "      <td>3L</td>\n",
              "      <td>3L</td>\n",
              "      <td>5</td>\n",
              "    </tr>\n",
              "    <tr>\n",
              "      <th>26</th>\n",
              "      <td>1.052</td>\n",
              "      <td>1S</td>\n",
              "      <td>2M</td>\n",
              "      <td>3L</td>\n",
              "      <td>3L</td>\n",
              "      <td>1S</td>\n",
              "      <td>3L</td>\n",
              "      <td>3</td>\n",
              "    </tr>\n",
              "    <tr>\n",
              "      <th>27</th>\n",
              "      <td>1.048</td>\n",
              "      <td>3L</td>\n",
              "      <td>2M</td>\n",
              "      <td>3L</td>\n",
              "      <td>2M</td>\n",
              "      <td>1S</td>\n",
              "      <td>3L</td>\n",
              "      <td>3</td>\n",
              "    </tr>\n",
              "    <tr>\n",
              "      <th>28</th>\n",
              "      <td>1.032</td>\n",
              "      <td>1S</td>\n",
              "      <td>3L</td>\n",
              "      <td>1S</td>\n",
              "      <td>2M</td>\n",
              "      <td>3L</td>\n",
              "      <td>3L</td>\n",
              "      <td>3</td>\n",
              "    </tr>\n",
              "    <tr>\n",
              "      <th>29</th>\n",
              "      <td>1.024</td>\n",
              "      <td>1S</td>\n",
              "      <td>3L</td>\n",
              "      <td>1S</td>\n",
              "      <td>3L</td>\n",
              "      <td>1S</td>\n",
              "      <td>3L</td>\n",
              "      <td>3</td>\n",
              "    </tr>\n",
              "  </tbody>\n",
              "</table>\n",
              "</div>"
            ],
            "text/plain": [
              "    counts   0   1   2   3   4   5  matched\n",
              "0    8.907  3L  3L  3L  3L  3L  3L        4\n",
              "1    4.422  3L  2M  3L  3L  3L  3L        5\n",
              "2    4.286  1S  3L  3L  3L  3L  3L        3\n",
              "3    4.284  3L  3L  3L  3L  3L  2M        3\n",
              "4    4.278  3L  3L  3L  2M  3L  3L        3\n",
              "5    4.227  3L  3L  1S  3L  3L  3L        5\n",
              "6    4.179  3L  3L  3L  3L  1S  3L        3\n",
              "7    2.179  3L  2M  3L  2M  3L  3L        4\n",
              "8    2.173  3L  2M  3L  3L  1S  3L        4\n",
              "9    2.165  1S  3L  1S  3L  3L  3L        4\n",
              "10   2.147  3L  2M  3L  3L  3L  2M        4\n",
              "11   2.136  3L  3L  3L  2M  3L  2M        2\n",
              "12   2.121  3L  2M  1S  3L  3L  3L        6\n",
              "13   2.111  1S  3L  3L  2M  3L  3L        2\n",
              "14   2.100  1S  2M  3L  3L  3L  3L        4\n",
              "15   2.075  3L  3L  3L  2M  1S  3L        2\n",
              "16   2.050  1S  3L  3L  3L  3L  2M        2\n",
              "17   2.040  3L  3L  1S  3L  3L  2M        4\n",
              "18   2.038  3L  3L  1S  2M  3L  3L        4\n",
              "19   2.022  3L  3L  1S  3L  1S  3L        4\n",
              "20   2.008  1S  3L  3L  3L  1S  3L        2\n",
              "21   1.955  3L  3L  3L  3L  1S  2M        2\n",
              "22   1.079  1S  2M  3L  2M  3L  3L        3\n",
              "23   1.077  1S  2M  3L  3L  3L  2M        3\n",
              "24   1.075  3L  2M  1S  2M  3L  3L        5\n",
              "25   1.064  1S  2M  1S  3L  3L  3L        5\n",
              "26   1.052  1S  2M  3L  3L  1S  3L        3\n",
              "27   1.048  3L  2M  3L  2M  1S  3L        3\n",
              "28   1.032  1S  3L  1S  2M  3L  3L        3\n",
              "29   1.024  1S  3L  1S  3L  1S  3L        3"
            ]
          },
          "metadata": {},
          "execution_count": 122
        }
      ]
    },
    {
      "cell_type": "code",
      "metadata": {
        "colab": {
          "base_uri": "https://localhost:8080/",
          "height": 404
        },
        "id": "YcZXcdXucSGl",
        "outputId": "027f955e-a22b-40ed-eb58-88f149f10802"
      },
      "source": [
        "hml_rand = HiddenMarkovLayer.initialize(states, observables)\n",
        "hmm_rand = HiddenMarkovModel(hml_rand)\n",
        "\n",
        "RUNS = 100000\n",
        "T = 5\n",
        "\n",
        "chains_rand = RUNS * [0]\n",
        "for i in range(len(chains_rand)):\n",
        "    chain_rand = hmm_rand.layer.run(T)[0]\n",
        "    chains_rand[i] = '-'.join(chain_rand)\n",
        "\n",
        "df2 = pd.DataFrame(pd.Series(chains_rand).value_counts(), columns=['counts']).reset_index().rename(columns={'index': 'chain'})\n",
        "df2 = pd.merge(df2, df2['chain'].str.split('-', expand=True), left_index=True, right_index=True)\n",
        "\n",
        "s = []\n",
        "for i in range(T + 1):\n",
        "    s.append(df2.apply(lambda x: x[i] == observations[i], axis=1))\n",
        "\n",
        "df2['matched'] = pd.concat(s, axis=1).sum(axis=1)\n",
        "df2['counts'] = df2['counts'] / RUNS * 100\n",
        "df2 = df2.drop(columns=['chain'])\n",
        "\n",
        "# To verify the quality of our model\n",
        "# We're plotting the outcomes together with the frequency of occurrence and compare it against a freshly initialized model\n",
        "fig, ax = plt.subplots(1, 1, figsize=(14, 6))\n",
        "\n",
        "ax.plot(df['matched'], 'g:')\n",
        "ax.plot(df2['matched'], 'k:')\n",
        "\n",
        "ax.set_xlabel('Ordered index')\n",
        "ax.set_ylabel('Matching observations')\n",
        "ax.set_title('Verification on a 6-observation chain.')\n",
        "\n",
        "ax2 = ax.twinx()\n",
        "ax2.plot(df['counts'], 'r', lw=3)\n",
        "ax2.plot(df2['counts'], 'k', lw=3)\n",
        "ax2.set_ylabel('Frequency of occurrence [%]')\n",
        "\n",
        "ax.legend(['trained', 'initialized'])\n",
        "ax2.legend(['trained', 'initialized'])\n",
        "\n",
        "plt.grid()\n",
        "plt.show()"
      ],
      "execution_count": 123,
      "outputs": [
        {
          "output_type": "display_data",
          "data": {
            "image/png": "[encoded data removed]",
            "text/plain": [
              "<Figure size 1008x432 with 2 Axes>"
            ]
          },
          "metadata": {
            "needs_background": "light"
          }
        }
      ]
    },
    {
      "cell_type": "markdown",
      "metadata": {
        "id": "eFOty3uMdRHs"
      },
      "source": [
        "Result after training of the model. The dotted lines represent the matched sequences. The lines represent the frequency of occurrence for a particular sequence: trained model (red) and freshly initialized (black). The initialized results in almost perfect uniform distribution of sequences, while the trained model gives a strong preference towards the observable sequence."
      ]
    }
  ]
}